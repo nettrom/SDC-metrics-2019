{
 "cells": [
  {
   "cell_type": "markdown",
   "metadata": {},
   "source": [
    "# Media files containing structured fields in non-English languages\n",
    "\n",
    "[T231952](https://phabricator.wikimedia.org/T231952) asks for a quarterly comparison of media files containing structured fields in non-English languages.\n",
    "\n",
    "We'll gather both a snapshot of this, as well as look into the number of files having these added per quarter. Note that in the preliminary analysis of [T230581](https://phabricator.wikimedia.org/T230581), we found that very few of these edits are reverted. I'll therefore count both adds and removes to get a sense of how often captions are removed.  \n",
    "\n",
    "\n",
    "<font color= red>_**Note that all metrics calculated in this version of the notebook are different than the previous versions due to the inclusion of December 2019 data that is now available in the Data lake. **_</font>"
   ]
  },
  {
   "cell_type": "code",
   "execution_count": 1,
   "metadata": {},
   "outputs": [
    {
     "name": "stderr",
     "output_type": "stream",
     "text": [
      "You are using wmfdata 0.1.0 (latest).\n",
      "\n",
      "You can find the source for `wmfdata` at https://github.com/neilpquinn/wmfdata\n"
     ]
    }
   ],
   "source": [
    "import pandas as pd\n",
    "import numpy as np\n",
    "\n",
    "import datetime as dt\n",
    "\n",
    "from wmfdata import hive, mariadb"
   ]
  },
  {
   "cell_type": "code",
   "execution_count": 3,
   "metadata": {},
   "outputs": [],
   "source": [
    "## Load the RPython library so we can use R for graphs\n",
    "\n",
    "%load_ext rpy2.ipython"
   ]
  },
  {
   "cell_type": "code",
   "execution_count": 4,
   "metadata": {},
   "outputs": [],
   "source": [
    "%%R\n",
    "library(ggplot2)\n",
    "library(data.table)"
   ]
  },
  {
   "cell_type": "markdown",
   "metadata": {},
   "source": [
    "## Configuration variables\n",
    "**UPDATE 2020-01-17:** Modified Config variables snapshot and end_date to include data from December 2019 in all the metrics. Refer to [T242816](https://phabricator.wikimedia.org/T242816) "
   ]
  },
  {
   "cell_type": "code",
   "execution_count": 5,
   "metadata": {},
   "outputs": [],
   "source": [
    "wmf_snapshot = '2019-12'\n",
    "start_date = '2019-01-01' # first date of caption edits\n",
    "end_date = '2020-01-01' # last date of caption edits (exclusive)\n"
   ]
  },
  {
   "cell_type": "code",
   "execution_count": null,
   "metadata": {},
   "outputs": [],
   "source": []
  },
  {
   "cell_type": "code",
   "execution_count": null,
   "metadata": {},
   "outputs": [],
   "source": [
    "# Figured out a good testcase for caption edit comment identification:\n",
    "\n",
    "'''SELECT rev_id, rev_timestamp, rev_user, rev_user_text, comment_text\n",
    "FROM revision\n",
    "JOIN revision_comment_temp\n",
    "ON rev_id=revcomment_rev\n",
    "JOIN comment\n",
    "ON revcomment_comment_id = comment_id\n",
    "WHERE rev_page = 61796201;'''"
   ]
  },
  {
   "cell_type": "code",
   "execution_count": null,
   "metadata": {},
   "outputs": [],
   "source": [
    "## What structured data is available for that file?\n",
    "\n",
    "'''\n",
    "EXPLAIN SELECT revision.*, slots.*, content.*\n",
    "# page excludes deleted pages (which are in archive)\n",
    "FROM page\n",
    "# joining on page_latest - we only care about most recent (not revdeleted) revision\n",
    "INNER JOIN revision ON rev_id = page_latest\n",
    "INNER JOIN slots ON slot_revision_id = page_latest\n",
    "# mediainfo slot must contain actual content\n",
    "INNER JOIN content ON slot_content_id = content_id AND content_size > 122\n",
    "INNER JOIN slot_roles ON role_id = slot_role_id AND role_name = 'mediainfo'\n",
    "WHERE page_id = 68860692\n",
    "AND rev_deleted = 0\n",
    "'''"
   ]
  },
  {
   "cell_type": "code",
   "execution_count": null,
   "metadata": {},
   "outputs": [],
   "source": [
    "## The query above tells us that there's at least one slot assigned for that file.\n",
    "## We should then be able to use the wbc_entity_usage table to identify what entities are in use.\n",
    "\n",
    "'''\n",
    "SELECT *\n",
    "FROM wbc_entity_usage\n",
    "WHERE eu_page_id = 68860692\n",
    "'''"
   ]
  },
  {
   "cell_type": "markdown",
   "metadata": {},
   "source": [
    "The issue here is that `wbc_entity_usage` shows the page has two labels, one in English and one in Portuguese. However, there's no Portuguese label on the page. This means that we can't use this to identify the current number of pages that have at least one non-English description. I also tried this with another page (`page_id = 10184478`) and that shows up with tons of slots assigned yet has only two descriptions on the current page (English and Chinese). This is not good."
   ]
  },
  {
   "cell_type": "code",
   "execution_count": null,
   "metadata": {},
   "outputs": [],
   "source": [
    "## Following up on https://phabricator.wikimedia.org/T238878, how many pages have a most recent\n",
    "## revision that has been revdeleted.\n",
    "\n",
    "'''SELECT count(*)\n",
    "FROM page\n",
    "JOIN revision\n",
    "ON page_latest = rev_id\n",
    "WHERE rev_deleted != 0;'''\n",
    "\n",
    "## As of Dec 1, 2019, there were 80 pages with some type of revision deletion having taken place. Removing the rev_deleted clause\n",
    "## doesn't really speed up the query, though, because it has to look up all the slots to identify those with > 122 bytes of content."
   ]
  },
  {
   "cell_type": "markdown",
   "metadata": {},
   "source": [
    "Let's investigate the amount of adds, modifications, and deletions of captions through `mediawiki_history`.  \n",
    "***Note: Changed snapshot in the below query from 2019-10 to 2019-12 for [T242816] (https://phabricator.wikimedia.org/T242816) ***"
   ]
  },
  {
   "cell_type": "code",
   "execution_count": 6,
   "metadata": {},
   "outputs": [],
   "source": [
    "caption_query = '''\n",
    "SELECT\n",
    "  SUM(IF(event_comment REGEXP \"^...wbsetlabel-add\", 1, 0)) AS num_adds,\n",
    "  SUM(IF(event_comment REGEXP \"^...wbsetlabel-set\", 1, 0)) AS num_mods,\n",
    "  SUM(IF(event_comment REGEXP \"^...wbsetlabel-remove\", 1, 0)) AS num_dels\n",
    "FROM wmf.mediawiki_history\n",
    "WHERE snapshot = \"2019-12\" \n",
    "AND wiki_db = \"commonswiki\"\n",
    "AND event_entity = \"revision\"\n",
    "AND event_type = \"create\"\n",
    "AND event_timestamp >= \"2019-01-01\"\n",
    "AND event_comment REGEXP \"^...wbsetlabel-(add|set|remove):\"\n",
    "'''\n"
   ]
  },
  {
   "cell_type": "code",
   "execution_count": 7,
   "metadata": {},
   "outputs": [],
   "source": [
    "label_counts = hive.run(caption_query)"
   ]
  },
  {
   "cell_type": "code",
   "execution_count": 8,
   "metadata": {},
   "outputs": [
    {
     "data": {
      "text/html": [
       "<div>\n",
       "<style scoped>\n",
       "    .dataframe tbody tr th:only-of-type {\n",
       "        vertical-align: middle;\n",
       "    }\n",
       "\n",
       "    .dataframe tbody tr th {\n",
       "        vertical-align: top;\n",
       "    }\n",
       "\n",
       "    .dataframe thead th {\n",
       "        text-align: right;\n",
       "    }\n",
       "</style>\n",
       "<table border=\"1\" class=\"dataframe\">\n",
       "  <thead>\n",
       "    <tr style=\"text-align: right;\">\n",
       "      <th></th>\n",
       "      <th>num_adds</th>\n",
       "      <th>num_mods</th>\n",
       "      <th>num_dels</th>\n",
       "    </tr>\n",
       "  </thead>\n",
       "  <tbody>\n",
       "    <tr>\n",
       "      <th>0</th>\n",
       "      <td>1773186</td>\n",
       "      <td>36805</td>\n",
       "      <td>11944</td>\n",
       "    </tr>\n",
       "  </tbody>\n",
       "</table>\n",
       "</div>"
      ],
      "text/plain": [
       "   num_adds  num_mods  num_dels\n",
       "0   1773186     36805     11944"
      ]
     },
     "execution_count": 8,
     "metadata": {},
     "output_type": "execute_result"
    }
   ],
   "source": [
    "label_counts"
   ]
  },
  {
   "cell_type": "markdown",
   "metadata": {},
   "source": [
    "So additions outnumber modifications by two orders of magnitude, and deletions by more than two. There's about 1.5 million additions, are those mainly done by bots?\n",
    "***Note: Changed snapshot in the below query from 2019-10 to 2019-12 for [T242816] (https://phabricator.wikimedia.org/T242816) ***"
   ]
  },
  {
   "cell_type": "code",
   "execution_count": 9,
   "metadata": {},
   "outputs": [],
   "source": [
    "bot_caption_add_query = '''\n",
    "SELECT\n",
    "  SUM(IF(size(event_user_is_bot_by_historical) > 0, 1, 0)) AS num_bot_edits,\n",
    "  SUM(IF(size(event_user_is_bot_by_historical) = 0, 1, 0)) AS num_nonbot_edits,\n",
    "  SUM(IF(size(event_user_is_bot_by) > 0, 1, 0)) AS num_current_bot_edits\n",
    "FROM wmf.mediawiki_history\n",
    "WHERE snapshot = \"2019-12\"\n",
    "AND wiki_db = \"commonswiki\"\n",
    "AND event_entity = \"revision\"\n",
    "AND event_type = \"create\"\n",
    "AND event_timestamp >= \"2019-01-01\"\n",
    "AND event_comment REGEXP \"^...wbsetlabel-add:\"\n",
    "'''"
   ]
  },
  {
   "cell_type": "code",
   "execution_count": 10,
   "metadata": {},
   "outputs": [],
   "source": [
    "botadded_captions_counts = hive.run([\n",
    "    \"SET mapreduce.map.memory.mb=4096\",\n",
    "    bot_caption_add_query\n",
    "])"
   ]
  },
  {
   "cell_type": "code",
   "execution_count": 11,
   "metadata": {},
   "outputs": [
    {
     "data": {
      "text/html": [
       "<div>\n",
       "<style scoped>\n",
       "    .dataframe tbody tr th:only-of-type {\n",
       "        vertical-align: middle;\n",
       "    }\n",
       "\n",
       "    .dataframe tbody tr th {\n",
       "        vertical-align: top;\n",
       "    }\n",
       "\n",
       "    .dataframe thead th {\n",
       "        text-align: right;\n",
       "    }\n",
       "</style>\n",
       "<table border=\"1\" class=\"dataframe\">\n",
       "  <thead>\n",
       "    <tr style=\"text-align: right;\">\n",
       "      <th></th>\n",
       "      <th>num_bot_edits</th>\n",
       "      <th>num_nonbot_edits</th>\n",
       "      <th>num_current_bot_edits</th>\n",
       "    </tr>\n",
       "  </thead>\n",
       "  <tbody>\n",
       "    <tr>\n",
       "      <th>0</th>\n",
       "      <td>170</td>\n",
       "      <td>1773016</td>\n",
       "      <td>167</td>\n",
       "    </tr>\n",
       "  </tbody>\n",
       "</table>\n",
       "</div>"
      ],
      "text/plain": [
       "   num_bot_edits  num_nonbot_edits  num_current_bot_edits\n",
       "0            170           1773016                    167"
      ]
     },
     "execution_count": 11,
     "metadata": {},
     "output_type": "execute_result"
    }
   ],
   "source": [
    "botadded_captions_counts"
   ]
  },
  {
   "cell_type": "markdown",
   "metadata": {},
   "source": [
    "OK, it looks like bots don't add captions. They might add other things (e.g. depicts statements, but they're not adding captions. Good to know."
   ]
  },
  {
   "cell_type": "markdown",
   "metadata": {},
   "source": [
    "## Number of files with non-English captions"
   ]
  },
  {
   "cell_type": "code",
   "execution_count": 12,
   "metadata": {},
   "outputs": [],
   "source": [
    "## Bug-checking. I found that I need to double-escape \"\\\" in order for it to work.\n",
    "## So, for any special regexp-syntax like \"\\d\", use \"\\\\\\\\d\". Maybe switch to \"[0-9]\" instead to make it more readable?\n",
    "\n",
    "x = hive.run([\n",
    "    \"SET mapreduce.map.memory.mb=4096\",\n",
    "'''\n",
    "SELECT event_comment\n",
    "FROM wmf.mediawiki_history\n",
    "WHERE snapshot = \"{snapshot}\"\n",
    "AND wiki_db = \"commonswiki\"\n",
    "AND event_entity = \"revision\"\n",
    "AND event_type = \"create\"\n",
    "AND event_timestamp >= \"{start_date}\"\n",
    "AND event_timestamp < \"{end_date}\"\n",
    "AND page_is_deleted = false -- only count live pages\n",
    "AND page_namespace = 6 -- only count files\n",
    "AND event_comment REGEXP \"^...wbsetlabel-add:\"\n",
    "AND regexp_extract(event_comment, \"^...wbsetlabel-add:\\\\\\\\d.(\\\\\\\\w+(-\\\\\\\\w+)?)\", 1)\n",
    "    NOT IN (\"simple\", \"en\")\n",
    "LIMIT 250\n",
    "'''.format(snapshot = wmf_snapshot, start_date = start_date, end_date = end_date)\n",
    "])"
   ]
  },
  {
   "cell_type": "code",
   "execution_count": 13,
   "metadata": {},
   "outputs": [
    {
     "data": {
      "text/html": [
       "<div>\n",
       "<style scoped>\n",
       "    .dataframe tbody tr th:only-of-type {\n",
       "        vertical-align: middle;\n",
       "    }\n",
       "\n",
       "    .dataframe tbody tr th {\n",
       "        vertical-align: top;\n",
       "    }\n",
       "\n",
       "    .dataframe thead th {\n",
       "        text-align: right;\n",
       "    }\n",
       "</style>\n",
       "<table border=\"1\" class=\"dataframe\">\n",
       "  <thead>\n",
       "    <tr style=\"text-align: right;\">\n",
       "      <th></th>\n",
       "      <th>event_comment</th>\n",
       "    </tr>\n",
       "  </thead>\n",
       "  <tbody>\n",
       "    <tr>\n",
       "      <th>0</th>\n",
       "      <td>/* wbsetlabel-add:1|ru */ П.Р. Качкаев депутат...</td>\n",
       "    </tr>\n",
       "    <tr>\n",
       "      <th>1</th>\n",
       "      <td>/* wbsetlabel-add:1|vi */ Văn nghệ Hội đình là...</td>\n",
       "    </tr>\n",
       "    <tr>\n",
       "      <th>2</th>\n",
       "      <td>/* wbsetlabel-add:1|fr */ LA VIERGE ET L'ENFAN...</td>\n",
       "    </tr>\n",
       "    <tr>\n",
       "      <th>3</th>\n",
       "      <td>/* wbsetlabel-add:1|de */ Schloss Milotice Int...</td>\n",
       "    </tr>\n",
       "    <tr>\n",
       "      <th>4</th>\n",
       "      <td>/* wbsetlabel-add:1|pl */ Laboratorium fizyczn...</td>\n",
       "    </tr>\n",
       "  </tbody>\n",
       "</table>\n",
       "</div>"
      ],
      "text/plain": [
       "                                       event_comment\n",
       "0  /* wbsetlabel-add:1|ru */ П.Р. Качкаев депутат...\n",
       "1  /* wbsetlabel-add:1|vi */ Văn nghệ Hội đình là...\n",
       "2  /* wbsetlabel-add:1|fr */ LA VIERGE ET L'ENFAN...\n",
       "3  /* wbsetlabel-add:1|de */ Schloss Milotice Int...\n",
       "4  /* wbsetlabel-add:1|pl */ Laboratorium fizyczn..."
      ]
     },
     "execution_count": 13,
     "metadata": {},
     "output_type": "execute_result"
    }
   ],
   "source": [
    "x.head()"
   ]
  },
  {
   "cell_type": "code",
   "execution_count": 16,
   "metadata": {},
   "outputs": [],
   "source": [
    "## Total number of files \n",
    "\n",
    "nonenglish_caption_count_query = '''\n",
    "SELECT COUNT(DISTINCT page_id) AS num_pages\n",
    "FROM wmf.mediawiki_history\n",
    "WHERE snapshot = \"{snapshot}\"\n",
    "AND wiki_db = \"commonswiki\"\n",
    "AND event_entity = \"revision\"\n",
    "AND event_type = \"create\"\n",
    "AND event_timestamp >= \"{start_date}\"\n",
    "AND event_timestamp < \"{end_date}\"\n",
    "AND page_is_deleted = false -- only count live pages\n",
    "AND page_namespace = 6 -- only count files\n",
    "AND event_comment REGEXP \"^...wbsetlabel-add:\"\n",
    "AND regexp_extract(event_comment, \"^...wbsetlabel-add:\\\\\\\\d.(\\\\\\\\w+(-\\\\\\\\w+)?)\", 1)\n",
    "    NOT REGEXP \"^simple|en|(en-.+)$\" -- not Simple English, nor English, nor any variant of English\n",
    "'''"
   ]
  },
  {
   "cell_type": "code",
   "execution_count": 17,
   "metadata": {},
   "outputs": [],
   "source": [
    "nonenglish_caption_filecount = hive.run([\n",
    "    \"SET mapreduce.map.memory.mb=4096\",\n",
    "    nonenglish_caption_count_query.format(\n",
    "        snapshot = wmf_snapshot,\n",
    "        start_date = start_date,\n",
    "        end_date = end_date\n",
    "    )\n",
    "])"
   ]
  },
  {
   "cell_type": "code",
   "execution_count": 18,
   "metadata": {},
   "outputs": [
    {
     "data": {
      "text/html": [
       "<div>\n",
       "<style scoped>\n",
       "    .dataframe tbody tr th:only-of-type {\n",
       "        vertical-align: middle;\n",
       "    }\n",
       "\n",
       "    .dataframe tbody tr th {\n",
       "        vertical-align: top;\n",
       "    }\n",
       "\n",
       "    .dataframe thead th {\n",
       "        text-align: right;\n",
       "    }\n",
       "</style>\n",
       "<table border=\"1\" class=\"dataframe\">\n",
       "  <thead>\n",
       "    <tr style=\"text-align: right;\">\n",
       "      <th></th>\n",
       "      <th>num_pages</th>\n",
       "    </tr>\n",
       "  </thead>\n",
       "  <tbody>\n",
       "    <tr>\n",
       "      <th>0</th>\n",
       "      <td>793470</td>\n",
       "    </tr>\n",
       "  </tbody>\n",
       "</table>\n",
       "</div>"
      ],
      "text/plain": [
       "   num_pages\n",
       "0     793470"
      ]
     },
     "execution_count": 18,
     "metadata": {},
     "output_type": "execute_result"
    }
   ],
   "source": [
    "nonenglish_caption_filecount"
   ]
  },
  {
   "cell_type": "markdown",
   "metadata": {},
   "source": [
    "## Number of files with English captions"
   ]
  },
  {
   "cell_type": "code",
   "execution_count": 19,
   "metadata": {},
   "outputs": [],
   "source": [
    "## Total number of files with English captions\n",
    "\n",
    "english_caption_count_query = '''\n",
    "SELECT COUNT(DISTINCT page_id) AS num_pages\n",
    "FROM wmf.mediawiki_history\n",
    "WHERE snapshot = \"{snapshot}\"\n",
    "AND wiki_db = \"commonswiki\"\n",
    "AND event_entity = \"revision\"\n",
    "AND event_type = \"create\"\n",
    "AND event_timestamp >= \"{start_date}\"\n",
    "AND event_timestamp < \"{end_date}\"\n",
    "AND page_is_deleted = false -- only count live pages\n",
    "AND page_namespace = 6 -- only count files\n",
    "AND event_comment REGEXP \"^...wbsetlabel-add\"\n",
    "AND regexp_extract(event_comment, \"^...wbsetlabel-add:\\\\\\\\d.(\\\\\\\\w+(-\\\\\\\\w+)?)\", 1)\n",
    "    REGEXP \"^simple|en|(en-.+)$\" -- Simple English, English, or any variant of English\n",
    "'''"
   ]
  },
  {
   "cell_type": "code",
   "execution_count": 20,
   "metadata": {},
   "outputs": [],
   "source": [
    "english_caption_filecount = hive.run([\n",
    "    \"SET mapreduce.map.memory.mb=4096\",\n",
    "    english_caption_count_query.format(\n",
    "        snapshot = wmf_snapshot,\n",
    "        start_date = start_date,\n",
    "        end_date = end_date\n",
    "    )\n",
    "])"
   ]
  },
  {
   "cell_type": "code",
   "execution_count": 21,
   "metadata": {},
   "outputs": [
    {
     "data": {
      "text/html": [
       "<div>\n",
       "<style scoped>\n",
       "    .dataframe tbody tr th:only-of-type {\n",
       "        vertical-align: middle;\n",
       "    }\n",
       "\n",
       "    .dataframe tbody tr th {\n",
       "        vertical-align: top;\n",
       "    }\n",
       "\n",
       "    .dataframe thead th {\n",
       "        text-align: right;\n",
       "    }\n",
       "</style>\n",
       "<table border=\"1\" class=\"dataframe\">\n",
       "  <thead>\n",
       "    <tr style=\"text-align: right;\">\n",
       "      <th></th>\n",
       "      <th>num_pages</th>\n",
       "    </tr>\n",
       "  </thead>\n",
       "  <tbody>\n",
       "    <tr>\n",
       "      <th>0</th>\n",
       "      <td>852148</td>\n",
       "    </tr>\n",
       "  </tbody>\n",
       "</table>\n",
       "</div>"
      ],
      "text/plain": [
       "   num_pages\n",
       "0     852148"
      ]
     },
     "execution_count": 21,
     "metadata": {},
     "output_type": "execute_result"
    }
   ],
   "source": [
    "english_caption_filecount"
   ]
  },
  {
   "cell_type": "markdown",
   "metadata": {},
   "source": [
    "## Number of files that had captions added"
   ]
  },
  {
   "cell_type": "code",
   "execution_count": 22,
   "metadata": {},
   "outputs": [],
   "source": [
    "## Total number of files with English captions\n",
    "\n",
    "all_caption_count_query = '''\n",
    "SELECT COUNT(DISTINCT page_id) AS num_pages\n",
    "FROM wmf.mediawiki_history\n",
    "WHERE snapshot = \"{snapshot}\"\n",
    "AND wiki_db = \"commonswiki\"\n",
    "AND event_entity = \"revision\"\n",
    "AND event_type = \"create\"\n",
    "AND event_timestamp >= \"{start_date}\"\n",
    "AND event_timestamp < \"{end_date}\"\n",
    "AND page_is_deleted = false -- only count live pages\n",
    "AND page_namespace = 6 -- only count files\n",
    "AND event_comment REGEXP \"^...wbsetlabel-add\"\n",
    "'''"
   ]
  },
  {
   "cell_type": "code",
   "execution_count": 23,
   "metadata": {},
   "outputs": [],
   "source": [
    "all_caption_filecount = hive.run([\n",
    "    \"SET mapreduce.map.memory.mb=4096\",\n",
    "    all_caption_count_query.format(\n",
    "        snapshot = wmf_snapshot,\n",
    "        start_date = start_date,\n",
    "        end_date = end_date\n",
    "    )\n",
    "])"
   ]
  },
  {
   "cell_type": "code",
   "execution_count": 24,
   "metadata": {},
   "outputs": [
    {
     "data": {
      "text/html": [
       "<div>\n",
       "<style scoped>\n",
       "    .dataframe tbody tr th:only-of-type {\n",
       "        vertical-align: middle;\n",
       "    }\n",
       "\n",
       "    .dataframe tbody tr th {\n",
       "        vertical-align: top;\n",
       "    }\n",
       "\n",
       "    .dataframe thead th {\n",
       "        text-align: right;\n",
       "    }\n",
       "</style>\n",
       "<table border=\"1\" class=\"dataframe\">\n",
       "  <thead>\n",
       "    <tr style=\"text-align: right;\">\n",
       "      <th></th>\n",
       "      <th>num_pages</th>\n",
       "    </tr>\n",
       "  </thead>\n",
       "  <tbody>\n",
       "    <tr>\n",
       "      <th>0</th>\n",
       "      <td>1486215</td>\n",
       "    </tr>\n",
       "  </tbody>\n",
       "</table>\n",
       "</div>"
      ],
      "text/plain": [
       "   num_pages\n",
       "0    1486215"
      ]
     },
     "execution_count": 24,
     "metadata": {},
     "output_type": "execute_result"
    }
   ],
   "source": [
    "all_caption_filecount"
   ]
  },
  {
   "cell_type": "code",
   "execution_count": 25,
   "metadata": {},
   "outputs": [
    {
     "data": {
      "text/plain": [
       "0    159403\n",
       "Name: num_pages, dtype: int64"
      ]
     },
     "execution_count": 25,
     "metadata": {},
     "output_type": "execute_result"
    }
   ],
   "source": [
    "# Number of pages with both:\n",
    "\n",
    "(nonenglish_caption_filecount['num_pages'] + english_caption_filecount['num_pages']\n",
    "    - all_caption_filecount['num_pages'])"
   ]
  },
  {
   "cell_type": "code",
   "execution_count": null,
   "metadata": {},
   "outputs": [],
   "source": []
  },
  {
   "cell_type": "code",
   "execution_count": null,
   "metadata": {},
   "outputs": [],
   "source": [
    "## Can we extract the language using regexp_extract()?\n",
    "\n",
    "'''\n",
    "SELECT regexp_extract(event_comment, \"^...wbsetlabel-add:\\\\d.(\\\\w+)\", 1) AS label_lang\n",
    "FROM wmf.mediawiki_history\n",
    "WHERE snapshot = \"2019-10\"\n",
    "AND wiki_db = \"commonswiki\"\n",
    "AND event_entity = \"revision\"\n",
    "AND event_type = \"create\"\n",
    "AND event_timestamp >= \"2019-01-01\"\n",
    "AND event_comment REGEXP \"^...wbsetlabel-add:\"\n",
    "LIMIT 250\n",
    "'''\n",
    "\n",
    "## Yes, we can, and don't forget to add the LIMIT clause or you'll get 1.5 million rows back...\n",
    "## Also, don't forget to double-escape things if running the query through Python."
   ]
  },
  {
   "cell_type": "markdown",
   "metadata": {},
   "source": [
    "## How quickly after creation does non-English captions get added?"
   ]
  },
  {
   "cell_type": "code",
   "execution_count": 26,
   "metadata": {},
   "outputs": [],
   "source": [
    "## Time between page creation and edit \n",
    "\n",
    "time_to_caption_query = '''\n",
    "SELECT unix_timestamp(event_timestamp) - unix_timestamp(page_creation_timestamp) AS time_to_caption\n",
    "FROM wmf.mediawiki_history\n",
    "WHERE snapshot = \"{snapshot}\"\n",
    "AND wiki_db = \"commonswiki\"\n",
    "AND event_entity = \"revision\"\n",
    "AND event_type = \"create\"\n",
    "AND event_timestamp >= \"{start_date}\"\n",
    "AND event_timestamp <= \"{end_date}\"\n",
    "AND page_is_deleted = false -- only count live pages\n",
    "AND page_namespace = 6 -- only count files\n",
    "AND event_comment REGEXP \"^...wbsetlabel-add:\"\n",
    "AND regexp_extract(event_comment, \"^...wbsetlabel-add:\\\\\\\\d.(\\\\\\\\w+(-\\\\\\\\w+)?)\", 1)\n",
    "    NOT REGEXP \"^simple|en|(en-.+)$\" -- not Simple English, nor English, nor any variant of English\n",
    "'''"
   ]
  },
  {
   "cell_type": "code",
   "execution_count": 27,
   "metadata": {},
   "outputs": [],
   "source": [
    "time_to_caption = hive.run([\n",
    "    \"SET mapreduce.map.memory.mb=4096\",\n",
    "    time_to_caption_query.format(\n",
    "        snapshot = wmf_snapshot,\n",
    "        start_date = start_date,\n",
    "        end_date = end_date\n",
    "    )\n",
    "])"
   ]
  },
  {
   "cell_type": "code",
   "execution_count": 28,
   "metadata": {},
   "outputs": [
    {
     "data": {
      "text/html": [
       "<div>\n",
       "<style scoped>\n",
       "    .dataframe tbody tr th:only-of-type {\n",
       "        vertical-align: middle;\n",
       "    }\n",
       "\n",
       "    .dataframe tbody tr th {\n",
       "        vertical-align: top;\n",
       "    }\n",
       "\n",
       "    .dataframe thead th {\n",
       "        text-align: right;\n",
       "    }\n",
       "</style>\n",
       "<table border=\"1\" class=\"dataframe\">\n",
       "  <thead>\n",
       "    <tr style=\"text-align: right;\">\n",
       "      <th></th>\n",
       "      <th>time_to_caption</th>\n",
       "    </tr>\n",
       "  </thead>\n",
       "  <tbody>\n",
       "    <tr>\n",
       "      <th>0</th>\n",
       "      <td>1</td>\n",
       "    </tr>\n",
       "    <tr>\n",
       "      <th>1</th>\n",
       "      <td>2</td>\n",
       "    </tr>\n",
       "    <tr>\n",
       "      <th>2</th>\n",
       "      <td>1</td>\n",
       "    </tr>\n",
       "    <tr>\n",
       "      <th>3</th>\n",
       "      <td>1</td>\n",
       "    </tr>\n",
       "    <tr>\n",
       "      <th>4</th>\n",
       "      <td>1</td>\n",
       "    </tr>\n",
       "  </tbody>\n",
       "</table>\n",
       "</div>"
      ],
      "text/plain": [
       "   time_to_caption\n",
       "0                1\n",
       "1                2\n",
       "2                1\n",
       "3                1\n",
       "4                1"
      ]
     },
     "execution_count": 28,
     "metadata": {},
     "output_type": "execute_result"
    }
   ],
   "source": [
    "time_to_caption.head()"
   ]
  },
  {
   "cell_type": "code",
   "execution_count": 30,
   "metadata": {},
   "outputs": [
    {
     "data": {
      "image/png": "[encoded data removed]"
     },
     "metadata": {},
     "output_type": "display_data"
    }
   ],
   "source": [
    "%%R -i time_to_caption\n",
    "\n",
    "time_to_caption = data.table(time_to_caption)\n",
    "\n",
    "g = ggplot(time_to_caption,\n",
    "       aes(x = time_to_caption)) +\n",
    "ggtitle(\"Time to first non-English caption\") +\n",
    "scale_x_log10(\n",
    "  \"Time\",\n",
    "  breaks=c(60, 15*60, 60*60, 24*60*60, 7*24*60*60, 30*24*60*60, 60*24*60*60, 90*24*60*60, 180*24*60*60,\n",
    "           365*24*60*60, 5*365*24*60*60, 10*365*24*60*60),\n",
    "  labels=c(\"1m\", \"15 min\", \"1h\", \"1d\", \"1w\", \"1mo\", \"2mos\", \"3mos\", \"6mos\",\n",
    "           \"1y\", \"5y\", \"10y\")) +\n",
    "geom_histogram(binwidth = 0.25)\n",
    "\n",
    "ggsave(plot = g, file = \"graphs/time_to_non-English_caption.png\",\n",
    "       width = 9, height = 6, units = \"in\", dpi = \"retina\")\n",
    "g"
   ]
  },
  {
   "cell_type": "markdown",
   "metadata": {},
   "source": [
    "So non-English caption edits tend to be either shortly after a file is uploaded (within an hour, or maybe a day), and much later (more than a month)."
   ]
  },
  {
   "cell_type": "markdown",
   "metadata": {},
   "source": [
    "## Quarterly measurements\n",
    "\n",
    "Do we want a quarterly count of the number of files with non-English captions, or do we want a quarterly count of the number of files uploaded that had non-English captions added within say 30 days? I think it's the former. So, we take our query to get the count and use it three times, once for each quarter of 2019."
   ]
  },
  {
   "cell_type": "code",
   "execution_count": 31,
   "metadata": {},
   "outputs": [],
   "source": [
    "## Quarterly counts\n",
    "\n",
    "nonenglish_first_caption_query = '''\n",
    "SELECT page_id, MIN(event_timestamp) AS first_caption\n",
    "FROM wmf.mediawiki_history\n",
    "WHERE snapshot = \"{snapshot}\"\n",
    "AND wiki_db = \"commonswiki\"\n",
    "AND event_entity = \"revision\"\n",
    "AND event_type = \"create\"\n",
    "AND event_timestamp >= \"{start_date}\"\n",
    "AND event_timestamp < \"{end_date}\"\n",
    "AND page_is_deleted = false -- only count live pages\n",
    "AND page_namespace = 6 -- only count files\n",
    "AND event_comment REGEXP \"^...wbsetlabel-add:\"\n",
    "AND regexp_extract(event_comment, \"^...wbsetlabel-add:\\\\\\\\d.(\\\\\\\\w+(-\\\\\\\\w+)?)\", 1)\n",
    "    NOT REGEXP \"^simple|en|(en-.+)$\" -- not Simple English, nor English, nor any variant of English\n",
    "GROUP BY page_id\n",
    "'''"
   ]
  },
  {
   "cell_type": "code",
   "execution_count": 32,
   "metadata": {},
   "outputs": [],
   "source": [
    "nonenglish_first_captions = hive.run([\n",
    "    \"SET mapreduce.map.memory.mb=4096\",\n",
    "    nonenglish_first_caption_query.format(\n",
    "        snapshot = wmf_snapshot,\n",
    "        start_date = start_date,\n",
    "        end_date = end_date\n",
    "    )\n",
    "])"
   ]
  },
  {
   "cell_type": "code",
   "execution_count": 33,
   "metadata": {},
   "outputs": [],
   "source": [
    "nonenglish_first_captions['first_caption_ts'] = pd.to_datetime(nonenglish_first_captions['first_caption'])"
   ]
  },
  {
   "cell_type": "markdown",
   "metadata": {},
   "source": [
    "<font color= purple>**The metrics given below have been calculated with December 2019 snapshot. As a result, when compared to the previous version of the notebook, the values have slightly reduced because the query only consideres live pages and not deleted pages. Number of live pages over the months may have possibly reduced from Nov to Dec 2019, which could explain the drop. **</font>"
   ]
  },
  {
   "cell_type": "markdown",
   "metadata": {},
   "source": [
    "Now we can count the number of pages with captions for each quarter. Through Q1 (end of March, 2019):"
   ]
  },
  {
   "cell_type": "code",
   "execution_count": 34,
   "metadata": {},
   "outputs": [
    {
     "data": {
      "text/plain": [
       "165837"
      ]
     },
     "execution_count": 34,
     "metadata": {},
     "output_type": "execute_result"
    }
   ],
   "source": [
    "len(nonenglish_first_captions.loc[\n",
    "    nonenglish_first_captions['first_caption_ts'] < dt.datetime(2019, 4, 1, 0, 0, 0)])"
   ]
  },
  {
   "cell_type": "markdown",
   "metadata": {},
   "source": [
    "Through Q2 (end of June, 2019):"
   ]
  },
  {
   "cell_type": "code",
   "execution_count": 35,
   "metadata": {},
   "outputs": [
    {
     "data": {
      "text/plain": [
       "386080"
      ]
     },
     "execution_count": 35,
     "metadata": {},
     "output_type": "execute_result"
    }
   ],
   "source": [
    "len(nonenglish_first_captions.loc[\n",
    "    nonenglish_first_captions['first_caption_ts'] < dt.datetime(2019, 7, 1, 0, 0, 0)])"
   ]
  },
  {
   "cell_type": "markdown",
   "metadata": {},
   "source": [
    "Through Q3 (end of September, 2019):"
   ]
  },
  {
   "cell_type": "code",
   "execution_count": 36,
   "metadata": {},
   "outputs": [
    {
     "data": {
      "text/plain": [
       "600259"
      ]
     },
     "execution_count": 36,
     "metadata": {},
     "output_type": "execute_result"
    }
   ],
   "source": [
    "len(nonenglish_first_captions.loc[\n",
    "    nonenglish_first_captions['first_caption_ts'] < dt.datetime(2019, 10, 1, 0, 0, 0)])"
   ]
  },
  {
   "cell_type": "markdown",
   "metadata": {},
   "source": [
    "Through Q4 (end of December, 2019):  \n",
    "***Added for [T242816](https://phabricator.wikimedia.org/T242816) ***\n"
   ]
  },
  {
   "cell_type": "code",
   "execution_count": 37,
   "metadata": {},
   "outputs": [
    {
     "data": {
      "text/plain": [
       "793470"
      ]
     },
     "execution_count": 37,
     "metadata": {},
     "output_type": "execute_result"
    }
   ],
   "source": [
    "len(nonenglish_first_captions.loc[\n",
    "    nonenglish_first_captions['first_caption_ts'] < dt.datetime(2020, 1, 1, 0, 0, 0)])"
   ]
  },
  {
   "cell_type": "code",
   "execution_count": null,
   "metadata": {},
   "outputs": [],
   "source": []
  }
 ],
 "metadata": {
  "kernelspec": {
   "display_name": "Python 3",
   "language": "python",
   "name": "python3"
  },
  "language_info": {
   "codemirror_mode": {
    "name": "ipython",
    "version": 3
   },
   "file_extension": ".py",
   "mimetype": "text/x-python",
   "name": "python",
   "nbconvert_exporter": "python",
   "pygments_lexer": "ipython3",
   "version": "3.5.3"
  }
 },
 "nbformat": 4,
 "nbformat_minor": 2
}
