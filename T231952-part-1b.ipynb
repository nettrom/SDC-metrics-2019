{
 "cells": [
  {
   "cell_type": "markdown",
   "metadata": {},
   "source": [
    "# Metric 1 : Quarterly comparison of metadata on files with a common template, such as the information template and artwork template\n",
    "\n",
    "In continuation to the numbers we provided in T231952-part-1a for files that have common templates, we will look into getting number of files that have structured data.\n",
    "<font color= red>_**Note that all metrics calculated in this version of the notebook are different than the previous versions due to the inclusion of December 2019 data that is now available in the Data lake. **_</font>"
   ]
  },
  {
   "cell_type": "markdown",
   "metadata": {},
   "source": [
    "## Investigating claim actions\n",
    "\n",
    "Exploring the data for claims/labels in order to understand whether we can identify the number of statements a given file might have based on edit comments."
   ]
  },
  {
   "cell_type": "code",
   "execution_count": 1,
   "metadata": {},
   "outputs": [
    {
     "name": "stderr",
     "output_type": "stream",
     "text": [
      "You are using wmfdata 0.1.0 (latest).\n",
      "\n",
      "You can find the source for `wmfdata` at https://github.com/neilpquinn/wmfdata\n"
     ]
    }
   ],
   "source": [
    "import pandas as pd\n",
    "import numpy as np\n",
    "\n",
    "import datetime as dt\n",
    "\n",
    "from wmfdata import hive, mariadb"
   ]
  },
  {
   "cell_type": "markdown",
   "metadata": {},
   "source": [
    "## Configuration variables\n",
    "**UPDATE 2020-01-17:** Modified Config variables snapshot and end_date to include December 2019 data in all the queries. Refer to [T242816](https://phabricator.wikimedia.org/T242816) "
   ]
  },
  {
   "cell_type": "code",
   "execution_count": 2,
   "metadata": {},
   "outputs": [],
   "source": [
    "wmf_snapshot = '2019-12'\n",
    "start_date = '2019-01-01' # first date of caption edits\n",
    "start_date_new = '2019-07-31' # first date of caption edits\n",
    "end_date = '2020-01-01' # last date of caption edits (exclusive)"
   ]
  },
  {
   "cell_type": "markdown",
   "metadata": {},
   "source": [
    "## Investigating claim actions\n",
    "\n",
    "I dug into the edit comments a bit to find examples, and found that [this file](https://commons.wikimedia.org/wiki/File:Rosendahl,_Darfeld,_Ortsansicht_--_2014_--_9391.jpg) has a bunch of property edits that provided good insight into what to look for. Basically, it meant that I had to expand my search to anything that starts with \"wb\". Using that insight, the below query looks for an edit comment matching \"wb{something}-{something}:\" (anchored at the start of the comment with space for \"/* \") and aggregates over the first and second \"something\"."
   ]
  },
  {
   "cell_type": "code",
   "execution_count": 18,
   "metadata": {},
   "outputs": [],
   "source": [
    "claim_query = '''\n",
    "SELECT claim_action, claim_subaction, count(*) AS num_actions\n",
    "FROM (\n",
    "    SELECT\n",
    "        regexp_extract(event_comment, \"^...(wb[^-]+)\", 1) AS claim_action,\n",
    "        regexp_extract(event_comment, \"^...wb[^-]+-([^:]+):\", 1) AS claim_subaction\n",
    "    FROM wmf.mediawiki_history\n",
    "    WHERE snapshot = \"{snapshot}\"\n",
    "    AND wiki_db = \"commonswiki\"\n",
    "    AND event_entity = \"revision\"\n",
    "    AND event_type = \"create\"\n",
    "    AND event_timestamp >= \"{start_date}\"\n",
    "    AND event_timestamp < \"{end_date}\"\n",
    "    AND page_is_deleted = false -- only count live pages\n",
    "    AND page_namespace = 6 -- only count files\n",
    "    AND event_comment REGEXP \"^...(wb[^-]+)-([^:]+):\"\n",
    ") AS ce\n",
    "GROUP BY claim_action, claim_subaction\n",
    "'''"
   ]
  },
  {
   "cell_type": "code",
   "execution_count": 19,
   "metadata": {},
   "outputs": [],
   "source": [
    "claim_counts = hive.run(\n",
    "    [\n",
    "        \"SET mapreduce.map.memory.mb=4096\", \n",
    "        claim_query.format(\n",
    "            snapshot = wmf_snapshot,\n",
    "            start_date = start_date,\n",
    "            end_date = end_date\n",
    "        )\n",
    "    ]\n",
    ")"
   ]
  },
  {
   "cell_type": "code",
   "execution_count": 28,
   "metadata": {},
   "outputs": [
    {
     "data": {
      "text/html": [
       "<div>\n",
       "<style scoped>\n",
       "    .dataframe tbody tr th:only-of-type {\n",
       "        vertical-align: middle;\n",
       "    }\n",
       "\n",
       "    .dataframe tbody tr th {\n",
       "        vertical-align: top;\n",
       "    }\n",
       "\n",
       "    .dataframe thead th {\n",
       "        text-align: right;\n",
       "    }\n",
       "</style>\n",
       "<table border=\"1\" class=\"dataframe\">\n",
       "  <thead>\n",
       "    <tr style=\"text-align: right;\">\n",
       "      <th></th>\n",
       "      <th>claim_action</th>\n",
       "      <th>claim_subaction</th>\n",
       "      <th>num_actions</th>\n",
       "    </tr>\n",
       "  </thead>\n",
       "  <tbody>\n",
       "    <tr>\n",
       "      <td>2</td>\n",
       "      <td>wbcreateclaim</td>\n",
       "      <td>create</td>\n",
       "      <td>1655105</td>\n",
       "    </tr>\n",
       "    <tr>\n",
       "      <td>8</td>\n",
       "      <td>wbeditentity</td>\n",
       "      <td>update</td>\n",
       "      <td>261794</td>\n",
       "    </tr>\n",
       "    <tr>\n",
       "      <td>0</td>\n",
       "      <td>wbeditentity</td>\n",
       "      <td>update-languages</td>\n",
       "      <td>872</td>\n",
       "    </tr>\n",
       "    <tr>\n",
       "      <td>11</td>\n",
       "      <td>wbremoveclaims</td>\n",
       "      <td>remove</td>\n",
       "      <td>22021</td>\n",
       "    </tr>\n",
       "    <tr>\n",
       "      <td>3</td>\n",
       "      <td>wbremoveclaims</td>\n",
       "      <td>update</td>\n",
       "      <td>14259</td>\n",
       "    </tr>\n",
       "    <tr>\n",
       "      <td>5</td>\n",
       "      <td>wbsetclaim</td>\n",
       "      <td>create</td>\n",
       "      <td>537587</td>\n",
       "    </tr>\n",
       "    <tr>\n",
       "      <td>6</td>\n",
       "      <td>wbsetclaim</td>\n",
       "      <td>update</td>\n",
       "      <td>40832</td>\n",
       "    </tr>\n",
       "    <tr>\n",
       "      <td>9</td>\n",
       "      <td>wbsetdescription</td>\n",
       "      <td>add</td>\n",
       "      <td>2</td>\n",
       "    </tr>\n",
       "    <tr>\n",
       "      <td>10</td>\n",
       "      <td>wbsetlabel</td>\n",
       "      <td>add</td>\n",
       "      <td>1631793</td>\n",
       "    </tr>\n",
       "    <tr>\n",
       "      <td>7</td>\n",
       "      <td>wbsetlabel</td>\n",
       "      <td>remove</td>\n",
       "      <td>11321</td>\n",
       "    </tr>\n",
       "    <tr>\n",
       "      <td>1</td>\n",
       "      <td>wbsetlabel</td>\n",
       "      <td>set</td>\n",
       "      <td>33839</td>\n",
       "    </tr>\n",
       "    <tr>\n",
       "      <td>4</td>\n",
       "      <td>wbsetqualifier</td>\n",
       "      <td>add</td>\n",
       "      <td>107320</td>\n",
       "    </tr>\n",
       "  </tbody>\n",
       "</table>\n",
       "</div>"
      ],
      "text/plain": [
       "        claim_action   claim_subaction  num_actions\n",
       "2      wbcreateclaim            create      1655105\n",
       "8       wbeditentity            update       261794\n",
       "0       wbeditentity  update-languages          872\n",
       "11    wbremoveclaims            remove        22021\n",
       "3     wbremoveclaims            update        14259\n",
       "5         wbsetclaim            create       537587\n",
       "6         wbsetclaim            update        40832\n",
       "9   wbsetdescription               add            2\n",
       "10        wbsetlabel               add      1631793\n",
       "7         wbsetlabel            remove        11321\n",
       "1         wbsetlabel               set        33839\n",
       "4     wbsetqualifier               add       107320"
      ]
     },
     "execution_count": 28,
     "metadata": {},
     "output_type": "execute_result"
    }
   ],
   "source": [
    "claim_counts.sort_values(['claim_action', 'claim_subaction'])"
   ]
  },
  {
   "cell_type": "markdown",
   "metadata": {},
   "source": [
    "From Morten's analysis on [Media files containing structured fields in non-English languages](https://github.com/wikimedia-research/SDC-metrics-2019/blob/master/T231952-part-3.ipynb) we know that wbsetlabel is used for caption additions. The wbremoveclaims indicates if a single property or multiple properties have been removed from a file.    \n",
    "Thus, we can conclude that the following comments are used to add or update properties on a file. In other words, to know how rich is the metadata of files on Commons we can consider the following comments:  \n",
    "- wbcreateclaim-create   \n",
    "- wbeditentity-update   \n",
    "- wbsetclaim-create   \n",
    "- wbsetclaim-update   \n",
    "\n",
    "Also, from the example file, we know that a single edit can modify multiple properties, meaning that we cannot know how many properties a file has based on the comments. "
   ]
  },
  {
   "cell_type": "markdown",
   "metadata": {},
   "source": [
    "## Claim actions from Aug 1 onwards\n",
    "The edit comments are an ideal way to know which properties have been added/updated/removed from a file. However, we found that information about properties were not added to the comments for the time frame we needed i.e. beginning January 2019. \n",
    "\n",
    "During the meeting with Amanda and Ramsey on 12-10-19, we raised the issue of not being able to use edit comments to see the properties that were added to a file. Per Ramsey, properties started appearing on edit comments from July 31, 2019 when UI went live. Hence we have decided to go forward with 2 approaches:\n",
    "\n",
    "1. Product Analytics will provide numbers from when the edit comments started getting properties (i.e. Aug 1st 2019 when UI went live) by 12/20 or before. This will be used in the grant proposal that is due on Jan 10, 2020.\n",
    "2. Product Analytics to use Commons data dump to get numbers from Jan 2019 that are required for the Grant proposal to Sloan Foundation (due Feb 28, 2020 ). @Abit will reach out to Ariel for making the dump available (for us to parse as well as in Query service). We can also include common template data in the dump for metadata comparison."
   ]
  },
  {
   "cell_type": "markdown",
   "metadata": {},
   "source": [
    "### Claim actions for all wb comments\n",
    "***All the analysis from this point onwards will consider the dates from 2019-07-31 to 2019-12-01***"
   ]
  },
  {
   "cell_type": "code",
   "execution_count": 4,
   "metadata": {},
   "outputs": [],
   "source": [
    "claim_query_new = '''\n",
    "SELECT claim_action, claim_subaction, count(*) AS num_actions\n",
    "FROM (\n",
    "    SELECT\n",
    "        regexp_extract(event_comment, \"^...(wb[^-]+)\", 1) AS claim_action,\n",
    "        regexp_extract(event_comment, \"^...wb[^-]+-([^:]+):\", 1) AS claim_subaction\n",
    "    FROM wmf.mediawiki_history\n",
    "    WHERE snapshot = \"{snapshot}\"\n",
    "    AND wiki_db = \"commonswiki\"\n",
    "    AND event_entity = \"revision\"\n",
    "    AND event_type = \"create\"\n",
    "    AND event_timestamp >= \"{start_date_new}\"\n",
    "    AND event_timestamp < \"{end_date}\"\n",
    "    AND page_is_deleted = false -- only count live pages\n",
    "    AND page_namespace = 6 -- only count files\n",
    "    AND event_comment REGEXP \"^...(wb[^-]+)-([^:]+):\"\n",
    ") AS ce\n",
    "GROUP BY claim_action, claim_subaction\n",
    "'''"
   ]
  },
  {
   "cell_type": "code",
   "execution_count": 7,
   "metadata": {},
   "outputs": [],
   "source": [
    "claim_counts_new = hive.run(\n",
    "    [\n",
    "        \"SET mapreduce.map.memory.mb=4096\", \n",
    "        claim_query_new.format(\n",
    "            snapshot = wmf_snapshot,\n",
    "            start_date_new = start_date_new,\n",
    "            end_date = end_date\n",
    "        )\n",
    "    ]\n",
    ")"
   ]
  },
  {
   "cell_type": "code",
   "execution_count": 8,
   "metadata": {},
   "outputs": [
    {
     "data": {
      "text/html": [
       "<div>\n",
       "<style scoped>\n",
       "    .dataframe tbody tr th:only-of-type {\n",
       "        vertical-align: middle;\n",
       "    }\n",
       "\n",
       "    .dataframe tbody tr th {\n",
       "        vertical-align: top;\n",
       "    }\n",
       "\n",
       "    .dataframe thead th {\n",
       "        text-align: right;\n",
       "    }\n",
       "</style>\n",
       "<table border=\"1\" class=\"dataframe\">\n",
       "  <thead>\n",
       "    <tr style=\"text-align: right;\">\n",
       "      <th></th>\n",
       "      <th>claim_action</th>\n",
       "      <th>claim_subaction</th>\n",
       "      <th>num_actions</th>\n",
       "    </tr>\n",
       "  </thead>\n",
       "  <tbody>\n",
       "    <tr>\n",
       "      <td>2</td>\n",
       "      <td>wbcreateclaim</td>\n",
       "      <td>create</td>\n",
       "      <td>1066714</td>\n",
       "    </tr>\n",
       "    <tr>\n",
       "      <td>8</td>\n",
       "      <td>wbeditentity</td>\n",
       "      <td>update</td>\n",
       "      <td>169234</td>\n",
       "    </tr>\n",
       "    <tr>\n",
       "      <td>0</td>\n",
       "      <td>wbeditentity</td>\n",
       "      <td>update-languages</td>\n",
       "      <td>872</td>\n",
       "    </tr>\n",
       "    <tr>\n",
       "      <td>10</td>\n",
       "      <td>wbremoveclaims</td>\n",
       "      <td>remove</td>\n",
       "      <td>7976</td>\n",
       "    </tr>\n",
       "    <tr>\n",
       "      <td>3</td>\n",
       "      <td>wbremoveclaims</td>\n",
       "      <td>update</td>\n",
       "      <td>472</td>\n",
       "    </tr>\n",
       "    <tr>\n",
       "      <td>5</td>\n",
       "      <td>wbsetclaim</td>\n",
       "      <td>create</td>\n",
       "      <td>359941</td>\n",
       "    </tr>\n",
       "    <tr>\n",
       "      <td>6</td>\n",
       "      <td>wbsetclaim</td>\n",
       "      <td>update</td>\n",
       "      <td>32370</td>\n",
       "    </tr>\n",
       "    <tr>\n",
       "      <td>9</td>\n",
       "      <td>wbsetlabel</td>\n",
       "      <td>add</td>\n",
       "      <td>575205</td>\n",
       "    </tr>\n",
       "    <tr>\n",
       "      <td>7</td>\n",
       "      <td>wbsetlabel</td>\n",
       "      <td>remove</td>\n",
       "      <td>3203</td>\n",
       "    </tr>\n",
       "    <tr>\n",
       "      <td>1</td>\n",
       "      <td>wbsetlabel</td>\n",
       "      <td>set</td>\n",
       "      <td>15285</td>\n",
       "    </tr>\n",
       "    <tr>\n",
       "      <td>4</td>\n",
       "      <td>wbsetqualifier</td>\n",
       "      <td>add</td>\n",
       "      <td>107319</td>\n",
       "    </tr>\n",
       "  </tbody>\n",
       "</table>\n",
       "</div>"
      ],
      "text/plain": [
       "      claim_action   claim_subaction  num_actions\n",
       "2    wbcreateclaim            create      1066714\n",
       "8     wbeditentity            update       169234\n",
       "0     wbeditentity  update-languages          872\n",
       "10  wbremoveclaims            remove         7976\n",
       "3   wbremoveclaims            update          472\n",
       "5       wbsetclaim            create       359941\n",
       "6       wbsetclaim            update        32370\n",
       "9       wbsetlabel               add       575205\n",
       "7       wbsetlabel            remove         3203\n",
       "1       wbsetlabel               set        15285\n",
       "4   wbsetqualifier               add       107319"
      ]
     },
     "execution_count": 8,
     "metadata": {},
     "output_type": "execute_result"
    }
   ],
   "source": [
    "claim_counts_new.sort_values(['claim_action', 'claim_subaction'])"
   ]
  },
  {
   "cell_type": "markdown",
   "metadata": {},
   "source": [
    "### Claim actions for wbcreateclaim-create, wbeditentity-update, wbsetclaim-create, and wbsetclaim-update  comments\n"
   ]
  },
  {
   "cell_type": "code",
   "execution_count": 3,
   "metadata": {},
   "outputs": [],
   "source": [
    "# Number of comments that have the wbcreateclaim-create, wbeditentity-update, wbsetclaim-create, and wbsetclaim-update \n",
    "\n",
    "wbadditions_detail_query = '''\n",
    "SELECT claim_action, claim_subaction, count(*) AS num_actions\n",
    "FROM (\n",
    "    SELECT\n",
    "        regexp_extract(event_comment, \"^...(wb[^-]+)\", 1) AS claim_action,\n",
    "        regexp_extract(event_comment, \"^...wb[^-]+-([^:]+):\", 1) AS claim_subaction\n",
    "    FROM wmf.mediawiki_history\n",
    "    WHERE snapshot = \"{snapshot}\"\n",
    "    AND wiki_db = \"commonswiki\"\n",
    "    AND event_entity = \"revision\"\n",
    "    AND event_type = \"create\"\n",
    "    AND event_timestamp >= \"{start_date_new}\"\n",
    "    AND event_timestamp < \"{end_date}\"\n",
    "    AND page_is_deleted = false -- only count live pages\n",
    "    AND page_namespace = 6 -- only count files\n",
    "    AND (event_comment REGEXP \"^...wbcreateclaim-create:\"  \n",
    "OR event_comment REGEXP \"^...wbeditentity-update:\"\n",
    "OR event_comment REGEXP \"^...wbsetclaim-create:\"\n",
    "OR event_comment REGEXP \"^...wbsetclaim-update:\")\n",
    ") AS ce\n",
    "GROUP BY claim_action, claim_subaction\n",
    "'''"
   ]
  },
  {
   "cell_type": "code",
   "execution_count": 4,
   "metadata": {},
   "outputs": [],
   "source": [
    "wbadditions_detail_count = hive.run(\n",
    "    [\n",
    "        \"SET mapreduce.map.memory.mb=4096\", \n",
    "        wbadditions_detail_query.format(\n",
    "            snapshot = wmf_snapshot,\n",
    "            start_date_new = start_date_new,\n",
    "            end_date = end_date\n",
    "        )\n",
    "    ]\n",
    ")"
   ]
  },
  {
   "cell_type": "code",
   "execution_count": 5,
   "metadata": {},
   "outputs": [
    {
     "data": {
      "text/html": [
       "<div>\n",
       "<style scoped>\n",
       "    .dataframe tbody tr th:only-of-type {\n",
       "        vertical-align: middle;\n",
       "    }\n",
       "\n",
       "    .dataframe tbody tr th {\n",
       "        vertical-align: top;\n",
       "    }\n",
       "\n",
       "    .dataframe thead th {\n",
       "        text-align: right;\n",
       "    }\n",
       "</style>\n",
       "<table border=\"1\" class=\"dataframe\">\n",
       "  <thead>\n",
       "    <tr style=\"text-align: right;\">\n",
       "      <th></th>\n",
       "      <th>claim_action</th>\n",
       "      <th>claim_subaction</th>\n",
       "      <th>num_actions</th>\n",
       "    </tr>\n",
       "  </thead>\n",
       "  <tbody>\n",
       "    <tr>\n",
       "      <th>0</th>\n",
       "      <td>wbsetclaim</td>\n",
       "      <td>create</td>\n",
       "      <td>420075</td>\n",
       "    </tr>\n",
       "    <tr>\n",
       "      <th>1</th>\n",
       "      <td>wbcreateclaim</td>\n",
       "      <td>create</td>\n",
       "      <td>1167143</td>\n",
       "    </tr>\n",
       "    <tr>\n",
       "      <th>2</th>\n",
       "      <td>wbsetclaim</td>\n",
       "      <td>update</td>\n",
       "      <td>33233</td>\n",
       "    </tr>\n",
       "    <tr>\n",
       "      <th>3</th>\n",
       "      <td>wbeditentity</td>\n",
       "      <td>update</td>\n",
       "      <td>183437</td>\n",
       "    </tr>\n",
       "  </tbody>\n",
       "</table>\n",
       "</div>"
      ],
      "text/plain": [
       "    claim_action claim_subaction  num_actions\n",
       "0     wbsetclaim          create       420075\n",
       "1  wbcreateclaim          create      1167143\n",
       "2     wbsetclaim          update        33233\n",
       "3   wbeditentity          update       183437"
      ]
     },
     "execution_count": 5,
     "metadata": {},
     "output_type": "execute_result"
    }
   ],
   "source": [
    "wbadditions_detail_count"
   ]
  },
  {
   "cell_type": "markdown",
   "metadata": {},
   "source": [
    "### Files with property additions \n"
   ]
  },
  {
   "cell_type": "code",
   "execution_count": 6,
   "metadata": {},
   "outputs": [],
   "source": [
    "# Number of files with wbcreateclaim-create, wbeditentity-update, wbsetclaim-create, and wbsetclaim-update \n",
    "\n",
    "wb_additions_count_query = '''\n",
    "SELECT COUNT(DISTINCT page_id) AS num_pages\n",
    "FROM wmf.mediawiki_history\n",
    "WHERE snapshot = \"{snapshot}\"\n",
    "AND wiki_db = \"commonswiki\"\n",
    "AND event_entity = \"revision\"\n",
    "AND event_type = \"create\"\n",
    "AND event_timestamp >= \"{start_date_new}\"\n",
    "AND event_timestamp < \"{end_date}\"\n",
    "AND page_is_deleted = false -- only count live pages\n",
    "AND page_namespace = 6 -- only count files\n",
    "AND (event_comment REGEXP \"^...wbcreateclaim-create:\"  \n",
    "OR event_comment REGEXP \"^...wbeditentity-update:\"\n",
    "OR event_comment REGEXP \"^...wbsetclaim-create:\"\n",
    "OR event_comment REGEXP \"^...wbsetclaim-update:\"\n",
    ")\n",
    "'''"
   ]
  },
  {
   "cell_type": "code",
   "execution_count": 7,
   "metadata": {},
   "outputs": [],
   "source": [
    "wb_additions_count = hive.run(\n",
    "    [\n",
    "        \"SET mapreduce.map.memory.mb=4096\", \n",
    "        wb_additions_count_query.format(\n",
    "            snapshot = wmf_snapshot,\n",
    "            start_date_new = start_date_new,\n",
    "            end_date = end_date\n",
    "        )\n",
    "    ]\n",
    ")"
   ]
  },
  {
   "cell_type": "markdown",
   "metadata": {},
   "source": [
    "We get around 1.27 million Commons files that have metadata from July 31 to Nov 30"
   ]
  },
  {
   "cell_type": "code",
   "execution_count": 8,
   "metadata": {},
   "outputs": [
    {
     "data": {
      "text/html": [
       "<div>\n",
       "<style scoped>\n",
       "    .dataframe tbody tr th:only-of-type {\n",
       "        vertical-align: middle;\n",
       "    }\n",
       "\n",
       "    .dataframe tbody tr th {\n",
       "        vertical-align: top;\n",
       "    }\n",
       "\n",
       "    .dataframe thead th {\n",
       "        text-align: right;\n",
       "    }\n",
       "</style>\n",
       "<table border=\"1\" class=\"dataframe\">\n",
       "  <thead>\n",
       "    <tr style=\"text-align: right;\">\n",
       "      <th></th>\n",
       "      <th>num_pages</th>\n",
       "    </tr>\n",
       "  </thead>\n",
       "  <tbody>\n",
       "    <tr>\n",
       "      <th>0</th>\n",
       "      <td>1369594</td>\n",
       "    </tr>\n",
       "  </tbody>\n",
       "</table>\n",
       "</div>"
      ],
      "text/plain": [
       "   num_pages\n",
       "0    1369594"
      ]
     },
     "execution_count": 8,
     "metadata": {},
     "output_type": "execute_result"
    }
   ],
   "source": [
    "wb_additions_count"
   ]
  },
  {
   "cell_type": "markdown",
   "metadata": {},
   "source": [
    "### Files with specific Structured data items added to them\n",
    "We are interested in getting the numbers of files with the following properties added to them  \n",
    "1. Caption P2096   \n",
    "2. Date of Creation P571    \n",
    "3. Date of Publication P577  \n",
    "4. Creator P170  \n",
    "5. License P275   \n",
    "6. Digital Representation of P6243  \n",
    "7. Depicts P180 "
   ]
  },
  {
   "cell_type": "code",
   "execution_count": 33,
   "metadata": {},
   "outputs": [],
   "source": [
    "#Number of Files with Captions (P2096) \n",
    "\n",
    "wb_caption_count_query=\"\"\"\n",
    "SELECT COUNT(DISTINCT page_id) AS num_pages_captions\n",
    "FROM wmf.mediawiki_history\n",
    "WHERE snapshot = \"{snapshot}\"\n",
    "AND wiki_db = \"commonswiki\"\n",
    "AND event_entity = \"revision\"\n",
    "AND event_type = \"create\"\n",
    "AND event_timestamp >= \"{start_date_new}\"\n",
    "AND page_is_deleted = false -- only count live pages\n",
    "AND page_namespace = 6 -- only count files\n",
    "AND (event_comment REGEXP \"^...wbcreateclaim-create:\"\n",
    "OR event_comment REGEXP \"^...wbeditentity-update:\"\n",
    "OR event_comment REGEXP \"^...wbsetclaim-create:\"\n",
    "OR event_comment REGEXP \"^...wbsetclaim-update:\"\n",
    ")\n",
    "AND event_comment LIKE \"%P2096%\"\n",
    "\"\"\""
   ]
  },
  {
   "cell_type": "code",
   "execution_count": 34,
   "metadata": {},
   "outputs": [],
   "source": [
    "wb_caption_count = hive.run(\n",
    "    [\n",
    "        \"SET mapreduce.map.memory.mb=4096\", \n",
    "        wb_caption_count_query.format(\n",
    "            snapshot = wmf_snapshot,\n",
    "            start_date_new = start_date_new\n",
    "           \n",
    "        )\n",
    "    ]\n",
    ")\n"
   ]
  },
  {
   "cell_type": "markdown",
   "metadata": {},
   "source": [
    "We believe the low count in Captions could be because captions are better captured using wbsetlabel comments. "
   ]
  },
  {
   "cell_type": "code",
   "execution_count": 35,
   "metadata": {},
   "outputs": [
    {
     "data": {
      "text/html": [
       "<div>\n",
       "<style scoped>\n",
       "    .dataframe tbody tr th:only-of-type {\n",
       "        vertical-align: middle;\n",
       "    }\n",
       "\n",
       "    .dataframe tbody tr th {\n",
       "        vertical-align: top;\n",
       "    }\n",
       "\n",
       "    .dataframe thead th {\n",
       "        text-align: right;\n",
       "    }\n",
       "</style>\n",
       "<table border=\"1\" class=\"dataframe\">\n",
       "  <thead>\n",
       "    <tr style=\"text-align: right;\">\n",
       "      <th></th>\n",
       "      <th>num_pages_captions</th>\n",
       "    </tr>\n",
       "  </thead>\n",
       "  <tbody>\n",
       "    <tr>\n",
       "      <th>0</th>\n",
       "      <td>767</td>\n",
       "    </tr>\n",
       "  </tbody>\n",
       "</table>\n",
       "</div>"
      ],
      "text/plain": [
       "   num_pages_captions\n",
       "0                 767"
      ]
     },
     "execution_count": 35,
     "metadata": {},
     "output_type": "execute_result"
    }
   ],
   "source": [
    "wb_caption_count"
   ]
  },
  {
   "cell_type": "markdown",
   "metadata": {},
   "source": [
    "Recalculating captions using the  wbsetlabel-add,set and remove comments"
   ]
  },
  {
   "cell_type": "code",
   "execution_count": 9,
   "metadata": {},
   "outputs": [],
   "source": [
    "caption_query = '''\n",
    "SELECT COUNT(DISTINCT page_id) AS num_pages_captions\n",
    "FROM wmf.mediawiki_history\n",
    "WHERE snapshot = \"{snapshot}\"\n",
    "AND wiki_db = \"commonswiki\"\n",
    "AND event_entity = \"revision\"\n",
    "AND event_type = \"create\"\n",
    "--AND event_timestamp >= \"2019-07-31\"\n",
    "AND event_timestamp >= \"{start_date_new}\"\n",
    "AND event_timestamp < \"{end_date}\"\n",
    "AND event_comment REGEXP \"^...wbsetlabel-(add|set):\"\n",
    "'''"
   ]
  },
  {
   "cell_type": "code",
   "execution_count": 10,
   "metadata": {},
   "outputs": [],
   "source": [
    "label_counts = hive.run(\n",
    "    [\n",
    "        \"SET mapreduce.map.memory.mb=4096\", \n",
    "        wb_additions_count_query.format(\n",
    "            snapshot = wmf_snapshot,\n",
    "            start_date_new = start_date_new,\n",
    "            end_date = end_date\n",
    "        )\n",
    "    ]\n",
    ")"
   ]
  },
  {
   "cell_type": "code",
   "execution_count": 11,
   "metadata": {},
   "outputs": [
    {
     "data": {
      "text/html": [
       "<div>\n",
       "<style scoped>\n",
       "    .dataframe tbody tr th:only-of-type {\n",
       "        vertical-align: middle;\n",
       "    }\n",
       "\n",
       "    .dataframe tbody tr th {\n",
       "        vertical-align: top;\n",
       "    }\n",
       "\n",
       "    .dataframe thead th {\n",
       "        text-align: right;\n",
       "    }\n",
       "</style>\n",
       "<table border=\"1\" class=\"dataframe\">\n",
       "  <thead>\n",
       "    <tr style=\"text-align: right;\">\n",
       "      <th></th>\n",
       "      <th>num_pages</th>\n",
       "    </tr>\n",
       "  </thead>\n",
       "  <tbody>\n",
       "    <tr>\n",
       "      <th>0</th>\n",
       "      <td>1369594</td>\n",
       "    </tr>\n",
       "  </tbody>\n",
       "</table>\n",
       "</div>"
      ],
      "text/plain": [
       "   num_pages\n",
       "0    1369594"
      ]
     },
     "execution_count": 11,
     "metadata": {},
     "output_type": "execute_result"
    }
   ],
   "source": [
    "label_counts"
   ]
  },
  {
   "cell_type": "code",
   "execution_count": 12,
   "metadata": {},
   "outputs": [],
   "source": [
    "#Number of Files with Date of Creation (P571) \n",
    "\n",
    "wb_date_of_creation_query=\"\"\"\n",
    "SELECT COUNT(DISTINCT page_id) AS num_pages_creation_date\n",
    "FROM wmf.mediawiki_history\n",
    "WHERE snapshot = \"{snapshot}\"\n",
    "AND wiki_db = \"commonswiki\"\n",
    "AND event_entity = \"revision\"\n",
    "AND event_type = \"create\"\n",
    "--AND event_timestamp >= \"2019-07-31\"\n",
    "--AND event_timestamp < \"2019-12-01\"\n",
    "AND event_timestamp >= \"{start_date_new}\"\n",
    "AND event_timestamp < \"{end_date}\"\n",
    "AND page_is_deleted = false -- only count live pages\n",
    "AND page_namespace = 6 -- only count files\n",
    "AND (event_comment REGEXP \"^...wbcreateclaim-create:\"\n",
    "OR event_comment REGEXP \"^...wbeditentity-update:\"\n",
    "OR event_comment REGEXP \"^...wbsetclaim-create:\"\n",
    "OR event_comment REGEXP \"^...wbsetclaim-update:\"\n",
    ")\n",
    "AND\n",
    "event_comment like \"%P571%\"\n",
    "\"\"\""
   ]
  },
  {
   "cell_type": "code",
   "execution_count": 15,
   "metadata": {},
   "outputs": [],
   "source": [
    "wb_date_of_creation_count=hive.run(\n",
    "    [\n",
    "        \"SET mapreduce.map.memory.mb=4096\", \n",
    "        wb_date_of_creation_query.format(\n",
    "            snapshot = wmf_snapshot,\n",
    "            start_date_new = start_date_new,\n",
    "            end_date = end_date\n",
    "        )\n",
    "    ]\n",
    ")"
   ]
  },
  {
   "cell_type": "code",
   "execution_count": 16,
   "metadata": {},
   "outputs": [
    {
     "data": {
      "text/html": [
       "<div>\n",
       "<style scoped>\n",
       "    .dataframe tbody tr th:only-of-type {\n",
       "        vertical-align: middle;\n",
       "    }\n",
       "\n",
       "    .dataframe tbody tr th {\n",
       "        vertical-align: top;\n",
       "    }\n",
       "\n",
       "    .dataframe thead th {\n",
       "        text-align: right;\n",
       "    }\n",
       "</style>\n",
       "<table border=\"1\" class=\"dataframe\">\n",
       "  <thead>\n",
       "    <tr style=\"text-align: right;\">\n",
       "      <th></th>\n",
       "      <th>num_pages_creation_date</th>\n",
       "    </tr>\n",
       "  </thead>\n",
       "  <tbody>\n",
       "    <tr>\n",
       "      <th>0</th>\n",
       "      <td>15667</td>\n",
       "    </tr>\n",
       "  </tbody>\n",
       "</table>\n",
       "</div>"
      ],
      "text/plain": [
       "   num_pages_creation_date\n",
       "0                    15667"
      ]
     },
     "execution_count": 16,
     "metadata": {},
     "output_type": "execute_result"
    }
   ],
   "source": [
    "wb_date_of_creation_count"
   ]
  },
  {
   "cell_type": "code",
   "execution_count": 17,
   "metadata": {},
   "outputs": [],
   "source": [
    "#Number of Files with Date of Publication (P577) \n",
    "\n",
    "wb_date_of_publication_query=\"\"\"\n",
    "SELECT COUNT(DISTINCT page_id) AS num_pages_publication_date\n",
    "FROM wmf.mediawiki_history\n",
    "WHERE snapshot = \"{snapshot}\"\n",
    "AND wiki_db = \"commonswiki\"\n",
    "AND event_entity = \"revision\"\n",
    "AND event_type = \"create\"\n",
    "--AND event_timestamp >= \"2019-07-31\"\n",
    "--AND event_timestamp < \"2019-12-01\"\n",
    "AND event_timestamp >= \"{start_date_new}\"\n",
    "AND event_timestamp < \"{end_date}\"\n",
    "AND page_is_deleted = false -- only count live pages\n",
    "AND page_namespace = 6 -- only count files\n",
    "AND (event_comment REGEXP \"^...wbcreateclaim-create:\"\n",
    "OR event_comment REGEXP \"^...wbeditentity-update:\"\n",
    "OR event_comment REGEXP \"^...wbsetclaim-create:\"\n",
    "OR event_comment REGEXP \"^...wbsetclaim-update:\"\n",
    ")\n",
    "AND\n",
    "event_comment like \"%P577%\"\n",
    "\"\"\""
   ]
  },
  {
   "cell_type": "code",
   "execution_count": 18,
   "metadata": {},
   "outputs": [],
   "source": [
    "wb_date_of_publication_count=hive.run(\n",
    "    [\n",
    "        \"SET mapreduce.map.memory.mb=4096\", \n",
    "        wb_date_of_publication_query.format(\n",
    "            snapshot = wmf_snapshot,\n",
    "            start_date_new = start_date_new,\n",
    "            end_date = end_date\n",
    "        )\n",
    "    ]\n",
    ")"
   ]
  },
  {
   "cell_type": "code",
   "execution_count": 19,
   "metadata": {},
   "outputs": [
    {
     "data": {
      "text/html": [
       "<div>\n",
       "<style scoped>\n",
       "    .dataframe tbody tr th:only-of-type {\n",
       "        vertical-align: middle;\n",
       "    }\n",
       "\n",
       "    .dataframe tbody tr th {\n",
       "        vertical-align: top;\n",
       "    }\n",
       "\n",
       "    .dataframe thead th {\n",
       "        text-align: right;\n",
       "    }\n",
       "</style>\n",
       "<table border=\"1\" class=\"dataframe\">\n",
       "  <thead>\n",
       "    <tr style=\"text-align: right;\">\n",
       "      <th></th>\n",
       "      <th>num_pages_publication_date</th>\n",
       "    </tr>\n",
       "  </thead>\n",
       "  <tbody>\n",
       "    <tr>\n",
       "      <th>0</th>\n",
       "      <td>0</td>\n",
       "    </tr>\n",
       "  </tbody>\n",
       "</table>\n",
       "</div>"
      ],
      "text/plain": [
       "   num_pages_publication_date\n",
       "0                           0"
      ]
     },
     "execution_count": 19,
     "metadata": {},
     "output_type": "execute_result"
    }
   ],
   "source": [
    "wb_date_of_publication_count"
   ]
  },
  {
   "cell_type": "code",
   "execution_count": 20,
   "metadata": {},
   "outputs": [],
   "source": [
    "# Number of files with Creator (P170)\n",
    "\n",
    "wb_creator_query = '''\n",
    "SELECT COUNT(DISTINCT page_id) AS num_pages_creator\n",
    "FROM wmf.mediawiki_history\n",
    "WHERE snapshot = \"{snapshot}\"\n",
    "AND wiki_db = \"commonswiki\"\n",
    "AND event_entity = \"revision\"\n",
    "AND event_type = \"create\"\n",
    "AND event_timestamp >= \"{start_date_new}\"\n",
    "AND event_timestamp < \"{end_date}\"\n",
    "AND page_is_deleted = false -- only count live pages\n",
    "AND page_namespace = 6 -- only count files\n",
    "AND (event_comment REGEXP \"^...wbcreateclaim-create:\"\n",
    "OR event_comment REGEXP \"^...wbeditentity-update:\"\n",
    "OR event_comment REGEXP \"^...wbsetclaim-create:\"\n",
    "OR event_comment REGEXP \"^...wbsetclaim-update:\"\n",
    ")\n",
    "AND event_comment LIKE \"%P170%\"\n",
    "'''                              "
   ]
  },
  {
   "cell_type": "code",
   "execution_count": 21,
   "metadata": {},
   "outputs": [],
   "source": [
    "wb_creator_count=hive.run(\n",
    "    [\n",
    "        \"SET mapreduce.map.memory.mb=4096\", \n",
    "        wb_creator_query.format(\n",
    "            snapshot = wmf_snapshot,\n",
    "            start_date_new = start_date_new,\n",
    "            end_date = end_date\n",
    "        )\n",
    "    ]\n",
    ")"
   ]
  },
  {
   "cell_type": "code",
   "execution_count": 22,
   "metadata": {},
   "outputs": [
    {
     "data": {
      "text/html": [
       "<div>\n",
       "<style scoped>\n",
       "    .dataframe tbody tr th:only-of-type {\n",
       "        vertical-align: middle;\n",
       "    }\n",
       "\n",
       "    .dataframe tbody tr th {\n",
       "        vertical-align: top;\n",
       "    }\n",
       "\n",
       "    .dataframe thead th {\n",
       "        text-align: right;\n",
       "    }\n",
       "</style>\n",
       "<table border=\"1\" class=\"dataframe\">\n",
       "  <thead>\n",
       "    <tr style=\"text-align: right;\">\n",
       "      <th></th>\n",
       "      <th>num_pages_creator</th>\n",
       "    </tr>\n",
       "  </thead>\n",
       "  <tbody>\n",
       "    <tr>\n",
       "      <th>0</th>\n",
       "      <td>68808</td>\n",
       "    </tr>\n",
       "  </tbody>\n",
       "</table>\n",
       "</div>"
      ],
      "text/plain": [
       "   num_pages_creator\n",
       "0              68808"
      ]
     },
     "execution_count": 22,
     "metadata": {},
     "output_type": "execute_result"
    }
   ],
   "source": [
    "wb_creator_count"
   ]
  },
  {
   "cell_type": "code",
   "execution_count": 23,
   "metadata": {},
   "outputs": [],
   "source": [
    "# Number of files with License (P275)\n",
    "wb_license_query='''\n",
    "SELECT COUNT(DISTINCT page_id) AS num_pages_license\n",
    "FROM wmf.mediawiki_history\n",
    "WHERE snapshot = \"{snapshot}\"\n",
    "AND wiki_db = \"commonswiki\"\n",
    "AND event_entity = \"revision\"\n",
    "AND event_type = \"create\"\n",
    "AND event_timestamp >= \"{start_date_new}\"\n",
    "AND event_timestamp < \"{end_date}\"\n",
    "AND page_is_deleted = false -- only count live pages\n",
    "AND page_namespace = 6 -- only count files\n",
    "AND (event_comment REGEXP \"^...wbcreateclaim-create:\"\n",
    "OR event_comment REGEXP \"^...wbeditentity-update:\"\n",
    "OR event_comment REGEXP \"^...wbsetclaim-create:\"\n",
    "OR event_comment REGEXP \"^...wbsetclaim-update:\"\n",
    ")\n",
    "AND\n",
    "event_comment like \"%P275%\"\n",
    "'''"
   ]
  },
  {
   "cell_type": "code",
   "execution_count": 24,
   "metadata": {},
   "outputs": [],
   "source": [
    "wb_license_count=hive.run(\n",
    "    [\n",
    "        \"SET mapreduce.map.memory.mb=4096\", \n",
    "        wb_license_query.format(\n",
    "            snapshot = wmf_snapshot,\n",
    "            start_date_new = start_date_new,\n",
    "            end_date = end_date\n",
    "        )\n",
    "    ]\n",
    ")"
   ]
  },
  {
   "cell_type": "code",
   "execution_count": 25,
   "metadata": {},
   "outputs": [
    {
     "data": {
      "text/html": [
       "<div>\n",
       "<style scoped>\n",
       "    .dataframe tbody tr th:only-of-type {\n",
       "        vertical-align: middle;\n",
       "    }\n",
       "\n",
       "    .dataframe tbody tr th {\n",
       "        vertical-align: top;\n",
       "    }\n",
       "\n",
       "    .dataframe thead th {\n",
       "        text-align: right;\n",
       "    }\n",
       "</style>\n",
       "<table border=\"1\" class=\"dataframe\">\n",
       "  <thead>\n",
       "    <tr style=\"text-align: right;\">\n",
       "      <th></th>\n",
       "      <th>num_pages_license</th>\n",
       "    </tr>\n",
       "  </thead>\n",
       "  <tbody>\n",
       "    <tr>\n",
       "      <th>0</th>\n",
       "      <td>47499</td>\n",
       "    </tr>\n",
       "  </tbody>\n",
       "</table>\n",
       "</div>"
      ],
      "text/plain": [
       "   num_pages_license\n",
       "0              47499"
      ]
     },
     "execution_count": 25,
     "metadata": {},
     "output_type": "execute_result"
    }
   ],
   "source": [
    "\n",
    "wb_license_count"
   ]
  },
  {
   "cell_type": "code",
   "execution_count": 26,
   "metadata": {},
   "outputs": [],
   "source": [
    "# Number of files with Digital Representation property (P6243)\n",
    "\n",
    "wb_Digital_Representation_query='''\n",
    "SELECT COUNT(DISTINCT page_id) AS num_pages_digital_rep\n",
    "FROM wmf.mediawiki_history\n",
    "WHERE snapshot = \"{snapshot}\"\n",
    "AND wiki_db = \"commonswiki\"\n",
    "AND event_entity = \"revision\"\n",
    "AND event_type = \"create\"\n",
    "AND event_timestamp >= \"{start_date_new}\"\n",
    "AND event_timestamp < \"{end_date}\"\n",
    "AND page_is_deleted = false -- only count live pages\n",
    "AND page_namespace = 6 -- only count files\n",
    "AND (event_comment REGEXP \"^...wbcreateclaim-create:\"\n",
    "OR event_comment REGEXP \"^...wbeditentity-update:\"\n",
    "OR event_comment REGEXP \"^...wbsetclaim-create:\"\n",
    "OR event_comment REGEXP \"^...wbsetclaim-update:\"\n",
    ")\n",
    "AND\n",
    "event_comment like \"%P6243%\"\n",
    "'''"
   ]
  },
  {
   "cell_type": "code",
   "execution_count": 27,
   "metadata": {},
   "outputs": [],
   "source": [
    "wb_Digital_Representation_count=hive.run(\n",
    "    [\n",
    "        \"SET mapreduce.map.memory.mb=4096\", \n",
    "        wb_Digital_Representation_query.format(\n",
    "            snapshot = wmf_snapshot,\n",
    "            start_date_new = start_date_new,\n",
    "            end_date = end_date\n",
    "        )\n",
    "    ]\n",
    ")"
   ]
  },
  {
   "cell_type": "code",
   "execution_count": 28,
   "metadata": {},
   "outputs": [
    {
     "data": {
      "text/html": [
       "<div>\n",
       "<style scoped>\n",
       "    .dataframe tbody tr th:only-of-type {\n",
       "        vertical-align: middle;\n",
       "    }\n",
       "\n",
       "    .dataframe tbody tr th {\n",
       "        vertical-align: top;\n",
       "    }\n",
       "\n",
       "    .dataframe thead th {\n",
       "        text-align: right;\n",
       "    }\n",
       "</style>\n",
       "<table border=\"1\" class=\"dataframe\">\n",
       "  <thead>\n",
       "    <tr style=\"text-align: right;\">\n",
       "      <th></th>\n",
       "      <th>num_pages_digital_rep</th>\n",
       "    </tr>\n",
       "  </thead>\n",
       "  <tbody>\n",
       "    <tr>\n",
       "      <th>0</th>\n",
       "      <td>19169</td>\n",
       "    </tr>\n",
       "  </tbody>\n",
       "</table>\n",
       "</div>"
      ],
      "text/plain": [
       "   num_pages_digital_rep\n",
       "0                  19169"
      ]
     },
     "execution_count": 28,
     "metadata": {},
     "output_type": "execute_result"
    }
   ],
   "source": [
    "wb_Digital_Representation_count"
   ]
  },
  {
   "cell_type": "code",
   "execution_count": 29,
   "metadata": {},
   "outputs": [],
   "source": [
    "# Number of files with Depicts property (P180)\n",
    "\n",
    "wb_Depicts_query='''\n",
    "SELECT COUNT(DISTINCT page_id) AS num_pages_Depicts\n",
    "FROM wmf.mediawiki_history\n",
    "WHERE snapshot = \"{snapshot}\"\n",
    "AND wiki_db = \"commonswiki\"\n",
    "AND event_entity = \"revision\"\n",
    "AND event_type = \"create\"\n",
    "AND event_timestamp >= \"{start_date_new}\"\n",
    "AND event_timestamp < \"{end_date}\"\n",
    "AND page_is_deleted = false -- only count live pages\n",
    "AND page_namespace = 6 -- only count files\n",
    "AND (event_comment REGEXP \"^...wbcreateclaim-create:\"\n",
    "OR event_comment REGEXP \"^...wbeditentity-update:\"\n",
    "OR event_comment REGEXP \"^...wbsetclaim-create:\"\n",
    "OR event_comment REGEXP \"^...wbsetclaim-update:\"\n",
    ")\n",
    "AND\n",
    "event_comment like \"%P180%\"\n",
    "\n",
    "'''"
   ]
  },
  {
   "cell_type": "code",
   "execution_count": 30,
   "metadata": {},
   "outputs": [],
   "source": [
    "wb_Depicts_count=hive.run(\n",
    "    [\n",
    "        \"SET mapreduce.map.memory.mb=4096\", \n",
    "        wb_Depicts_query.format(\n",
    "            snapshot = wmf_snapshot,\n",
    "            start_date_new = start_date_new,\n",
    "            end_date = end_date\n",
    "        )\n",
    "    ]\n",
    ")"
   ]
  },
  {
   "cell_type": "code",
   "execution_count": 31,
   "metadata": {},
   "outputs": [
    {
     "data": {
      "text/html": [
       "<div>\n",
       "<style scoped>\n",
       "    .dataframe tbody tr th:only-of-type {\n",
       "        vertical-align: middle;\n",
       "    }\n",
       "\n",
       "    .dataframe tbody tr th {\n",
       "        vertical-align: top;\n",
       "    }\n",
       "\n",
       "    .dataframe thead th {\n",
       "        text-align: right;\n",
       "    }\n",
       "</style>\n",
       "<table border=\"1\" class=\"dataframe\">\n",
       "  <thead>\n",
       "    <tr style=\"text-align: right;\">\n",
       "      <th></th>\n",
       "      <th>num_pages_Depicts</th>\n",
       "    </tr>\n",
       "  </thead>\n",
       "  <tbody>\n",
       "    <tr>\n",
       "      <th>0</th>\n",
       "      <td>911663</td>\n",
       "    </tr>\n",
       "  </tbody>\n",
       "</table>\n",
       "</div>"
      ],
      "text/plain": [
       "   num_pages_Depicts\n",
       "0             911663"
      ]
     },
     "execution_count": 31,
     "metadata": {},
     "output_type": "execute_result"
    }
   ],
   "source": [
    "wb_Depicts_count"
   ]
  },
  {
   "cell_type": "markdown",
   "metadata": {},
   "source": [
    "### Impact of Property Removals on our analysis"
   ]
  },
  {
   "cell_type": "markdown",
   "metadata": {},
   "source": [
    "In the above analysis we have only looked at additions and updates. However there are files with properties removed. The wbremoveclaims indicates if a single property or multiple properties have been removed from a file. Based on [Morten's analysis posted on this notebook](https://github.com/wikimedia-research/SDC-metrics-2019/blob/master/wbremoveclaims-exploration.txt), we find that relative to the >1.5M edits that appear to add one\n",
    "(or more) statements, the removal of multiple statements will not have a significant impact on our\n",
    "estimates.   \n",
    "**Hence we should be okay to report the above numbers without including property removals. **"
   ]
  },
  {
   "cell_type": "code",
   "execution_count": null,
   "metadata": {},
   "outputs": [],
   "source": []
  }
 ],
 "metadata": {
  "kernelspec": {
   "display_name": "Python 3",
   "language": "python",
   "name": "python3"
  },
  "language_info": {
   "codemirror_mode": {
    "name": "ipython",
    "version": 3
   },
   "file_extension": ".py",
   "mimetype": "text/x-python",
   "name": "python",
   "nbconvert_exporter": "python",
   "pygments_lexer": "ipython3",
   "version": "3.5.3"
  }
 },
 "nbformat": 4,
 "nbformat_minor": 2
}
