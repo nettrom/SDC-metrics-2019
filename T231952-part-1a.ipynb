{
 "cells": [
  {
   "cell_type": "markdown",
   "metadata": {},
   "source": [
    "# Quarterly comparison of metadata on files with a common template, such as the information template and artwork template"
   ]
  },
  {
   "cell_type": "markdown",
   "metadata": {},
   "source": [
    "T231952 asks for a Quarterly comparison of metadata on files with a common template, such as the information template and artwork template.\n",
    "We'll gather both a snapshot of this, as well as look into the number of files having these common templates per quarter. \n",
    "<font color= red>_**Note that all metrics calculated in this version of the notebook are different than the previous versions due to the inclusion of December 2019 data that is now available in the Data lake. **_</font>"
   ]
  },
  {
   "cell_type": "code",
   "execution_count": 4,
   "metadata": {},
   "outputs": [
    {
     "name": "stderr",
     "output_type": "stream",
     "text": [
      "You are using wmfdata 0.1.0 (latest).\n",
      "\n",
      "You can find the source for `wmfdata` at https://github.com/neilpquinn/wmfdata\n"
     ]
    }
   ],
   "source": [
    "import pandas as pd\n",
    "import numpy as np\n",
    "\n",
    "import datetime as dt\n",
    "\n",
    "from wmfdata import hive, mariadb"
   ]
  },
  {
   "cell_type": "markdown",
   "metadata": {},
   "source": [
    "### Configuration variables  \n",
    "**UPDATE 2020-01-17:** Modified Config variables snapshot and end_date to include December 2019 data in all the queries. Refer to [T242816](https://phabricator.wikimedia.org/T242816) "
   ]
  },
  {
   "cell_type": "code",
   "execution_count": 5,
   "metadata": {},
   "outputs": [],
   "source": [
    "wmf_snapshot = '2019-12'\n",
    "start_date = '2019-01-01' # first date of common template use\n",
    "end_date = '2020-01-01' # last date of common template use"
   ]
  },
  {
   "cell_type": "markdown",
   "metadata": {},
   "source": [
    "### Number of Files with common templates"
   ]
  },
  {
   "cell_type": "markdown",
   "metadata": {},
   "source": [
    "We will first get a count of All pages that use Information and Artwork templates on Commonswiki till date.\n",
    "This can be obtained using the templatelinks table on Mariadb replicas"
   ]
  },
  {
   "cell_type": "code",
   "execution_count": 6,
   "metadata": {},
   "outputs": [],
   "source": [
    "Count_Template='''\n",
    "SELECT tl_title as Template_name,\n",
    "count(distinct tl_from) as Number_of_pages\n",
    "FROM templatelinks \n",
    "WHERE tl_from_namespace = 6 AND tl_namespace = 10 AND tl_title in (\"Information\",\"Artwork\")  \n",
    "GROUP BY  tl_title\n",
    "'''"
   ]
  },
  {
   "cell_type": "code",
   "execution_count": 7,
   "metadata": {},
   "outputs": [],
   "source": [
    "Total_Count_Template=mariadb.run(Count_Template,'commonswiki')"
   ]
  },
  {
   "cell_type": "code",
   "execution_count": 8,
   "metadata": {},
   "outputs": [
    {
     "data": {
      "text/html": [
       "<div>\n",
       "<style scoped>\n",
       "    .dataframe tbody tr th:only-of-type {\n",
       "        vertical-align: middle;\n",
       "    }\n",
       "\n",
       "    .dataframe tbody tr th {\n",
       "        vertical-align: top;\n",
       "    }\n",
       "\n",
       "    .dataframe thead th {\n",
       "        text-align: right;\n",
       "    }\n",
       "</style>\n",
       "<table border=\"1\" class=\"dataframe\">\n",
       "  <thead>\n",
       "    <tr style=\"text-align: right;\">\n",
       "      <th></th>\n",
       "      <th>Template_name</th>\n",
       "      <th>Number_of_pages</th>\n",
       "    </tr>\n",
       "  </thead>\n",
       "  <tbody>\n",
       "    <tr>\n",
       "      <th>0</th>\n",
       "      <td>Artwork</td>\n",
       "      <td>2,444,479</td>\n",
       "    </tr>\n",
       "    <tr>\n",
       "      <th>1</th>\n",
       "      <td>Information</td>\n",
       "      <td>52,468,651</td>\n",
       "    </tr>\n",
       "  </tbody>\n",
       "</table>\n",
       "</div>"
      ],
      "text/plain": [
       "  Template_name Number_of_pages\n",
       "0       Artwork       2,444,479\n",
       "1   Information      52,468,651"
      ]
     },
     "execution_count": 8,
     "metadata": {},
     "output_type": "execute_result"
    }
   ],
   "source": [
    "Total_Count_Template['Number_of_pages'] = Total_Count_Template['Number_of_pages'].astype(int).apply(lambda x: \"{:,}\".format(x)) \n",
    "Total_Count_Template"
   ]
  },
  {
   "cell_type": "markdown",
   "metadata": {},
   "source": [
    "### Number of Files with common templates from January 2019"
   ]
  },
  {
   "cell_type": "markdown",
   "metadata": {},
   "source": [
    "We will look at all files created from January 2019, that have Information and Artwork templates used as of today. Note that this is not indicative of whether the common templates were added when the file was first created or added over time after it was created.  \n",
    "To get this count we will use the Revision table on Mariadb replicas and first timestamp of the file as the date filter. "
   ]
  },
  {
   "cell_type": "code",
   "execution_count": 21,
   "metadata": {},
   "outputs": [],
   "source": [
    "File_Count_Information_Template='''\n",
    "SELECT rev_page, MIN(rev_timestamp) AS first_edit_ts\n",
    "FROM revision\n",
    "JOIN templatelinks\n",
    "ON rev_page = tl_from\n",
    "WHERE tl_namespace = 10\n",
    "AND tl_title = \"Information\"\n",
    "AND tl_from_namespace = 6\n",
    "GROUP BY rev_page \n",
    "HAVING first_edit_ts >= '20190101000000'\n",
    "'''"
   ]
  },
  {
   "cell_type": "code",
   "execution_count": 22,
   "metadata": {},
   "outputs": [],
   "source": [
    "File_Count_Information_Template_2019=mariadb.run(File_Count_Information_Template,'commonswiki')"
   ]
  },
  {
   "cell_type": "code",
   "execution_count": 23,
   "metadata": {},
   "outputs": [
    {
     "data": {
      "text/plain": [
       "rev_page         6392228\n",
       "first_edit_ts    6392228\n",
       "dtype: int64"
      ]
     },
     "execution_count": 23,
     "metadata": {},
     "output_type": "execute_result"
    }
   ],
   "source": [
    "File_Count_Information_Template_2019.count(0)"
   ]
  },
  {
   "cell_type": "code",
   "execution_count": 2,
   "metadata": {},
   "outputs": [],
   "source": [
    "File_Count_Artwork_Template='''\n",
    "SELECT rev_page, MIN(rev_timestamp) AS first_edit_ts\n",
    "FROM revision\n",
    "JOIN templatelinks\n",
    "ON rev_page = tl_from\n",
    "WHERE tl_namespace = 10\n",
    "AND tl_title = \"Artwork\"\n",
    "AND tl_from_namespace = 6\n",
    "GROUP BY rev_page \n",
    "HAVING first_edit_ts >= '20190101000000'\n",
    "'''"
   ]
  },
  {
   "cell_type": "code",
   "execution_count": 6,
   "metadata": {},
   "outputs": [],
   "source": [
    "File_Count_Artwork_Template_2019=mariadb.run(File_Count_Artwork_Template,'commonswiki')"
   ]
  },
  {
   "cell_type": "code",
   "execution_count": 34,
   "metadata": {},
   "outputs": [
    {
     "data": {
      "text/plain": [
       "rev_page         462154\n",
       "first_edit_ts    462154\n",
       "dtype: int64"
      ]
     },
     "execution_count": 34,
     "metadata": {},
     "output_type": "execute_result"
    }
   ],
   "source": [
    "File_Count_Artwork_Template_2019.count(0)"
   ]
  },
  {
   "cell_type": "markdown",
   "metadata": {},
   "source": [
    "## Quarterly Measurements \n",
    "We need a quarterly measurement of the files that have used the Information template and Artwork template. So, we take our query to get the count and use it three times, once for each quarter of 2019."
   ]
  },
  {
   "cell_type": "markdown",
   "metadata": {},
   "source": [
    "#### Information Template quarterly comparison"
   ]
  },
  {
   "cell_type": "code",
   "execution_count": 24,
   "metadata": {},
   "outputs": [],
   "source": [
    "File_Count_Information_Template_2019['first_edit_timestamp'] = pd.to_datetime(File_Count_Information_Template_2019['first_edit_ts'])"
   ]
  },
  {
   "cell_type": "markdown",
   "metadata": {},
   "source": [
    "Now we can count the number of pages with Information Template for each quarter. Through Q1 (end of March, 2019):\n",
    "\n"
   ]
  },
  {
   "cell_type": "code",
   "execution_count": 25,
   "metadata": {},
   "outputs": [
    {
     "data": {
      "text/plain": [
       "1324887"
      ]
     },
     "execution_count": 25,
     "metadata": {},
     "output_type": "execute_result"
    }
   ],
   "source": [
    "len(File_Count_Information_Template_2019.loc[\n",
    "    File_Count_Information_Template_2019['first_edit_timestamp'] < dt.datetime(2019, 4, 1, 0, 0, 0)])"
   ]
  },
  {
   "cell_type": "markdown",
   "metadata": {},
   "source": [
    "For Q2 (End of June 2019)"
   ]
  },
  {
   "cell_type": "code",
   "execution_count": 26,
   "metadata": {},
   "outputs": [],
   "source": [
    "Q2_File_Count_Information_Template_2019=len(File_Count_Information_Template_2019.loc[\n",
    "    (File_Count_Information_Template_2019['first_edit_timestamp'] >= dt.datetime(2019, 4, 1, 0, 0, 0)) & \n",
    "    (File_Count_Information_Template_2019['first_edit_timestamp'] < dt.datetime(2019, 7, 1, 0, 0, 0))])"
   ]
  },
  {
   "cell_type": "code",
   "execution_count": 27,
   "metadata": {},
   "outputs": [
    {
     "data": {
      "text/plain": [
       "1600128"
      ]
     },
     "execution_count": 27,
     "metadata": {},
     "output_type": "execute_result"
    }
   ],
   "source": [
    "Q2_File_Count_Information_Template_2019"
   ]
  },
  {
   "cell_type": "markdown",
   "metadata": {},
   "source": [
    "For Q3 (End of September 2019) "
   ]
  },
  {
   "cell_type": "code",
   "execution_count": 28,
   "metadata": {},
   "outputs": [],
   "source": [
    "Q3_File_Count_Information_Template_2019=len(File_Count_Information_Template_2019.loc[\n",
    "    (File_Count_Information_Template_2019['first_edit_timestamp'] >= dt.datetime(2019, 7, 1, 0, 0, 0)) & (File_Count_Information_Template_2019['first_edit_timestamp'] < dt.datetime(2019, 10, 1, 0, 0, 0))])"
   ]
  },
  {
   "cell_type": "code",
   "execution_count": 29,
   "metadata": {},
   "outputs": [
    {
     "data": {
      "text/plain": [
       "1488130"
      ]
     },
     "execution_count": 29,
     "metadata": {},
     "output_type": "execute_result"
    }
   ],
   "source": [
    "Q3_File_Count_Information_Template_2019"
   ]
  },
  {
   "cell_type": "markdown",
   "metadata": {},
   "source": [
    "<font color=purple> For Q4 (end of December, 2019):  \n",
    "***Added for [T242816](https://phabricator.wikimedia.org/T242816) *** </font>\n"
   ]
  },
  {
   "cell_type": "code",
   "execution_count": 30,
   "metadata": {},
   "outputs": [],
   "source": [
    "Q4_File_Count_Information_Template_2019=len(File_Count_Information_Template_2019.loc[\n",
    "    (File_Count_Information_Template_2019['first_edit_timestamp'] >= dt.datetime(2019, 10, 1, 0, 0, 0)) & (File_Count_Information_Template_2019['first_edit_timestamp'] < dt.datetime(2020, 1, 1, 0, 0, 0))])"
   ]
  },
  {
   "cell_type": "code",
   "execution_count": 31,
   "metadata": {},
   "outputs": [
    {
     "data": {
      "text/plain": [
       "1558885"
      ]
     },
     "execution_count": 31,
     "metadata": {},
     "output_type": "execute_result"
    }
   ],
   "source": [
    "Q4_File_Count_Information_Template_2019"
   ]
  },
  {
   "cell_type": "markdown",
   "metadata": {},
   "source": [
    "#### Artwork Template quarterly comparison"
   ]
  },
  {
   "cell_type": "code",
   "execution_count": 8,
   "metadata": {},
   "outputs": [],
   "source": [
    "File_Count_Artwork_Template_2019['first_edit_timestamp'] = pd.to_datetime(File_Count_Artwork_Template_2019['first_edit_ts'])"
   ]
  },
  {
   "cell_type": "markdown",
   "metadata": {},
   "source": [
    "Now we can count the number of pages with Artwork Template for each quarter. Through Q1 (end of March, 2019):\n"
   ]
  },
  {
   "cell_type": "code",
   "execution_count": 36,
   "metadata": {},
   "outputs": [
    {
     "data": {
      "text/plain": [
       "44318"
      ]
     },
     "execution_count": 36,
     "metadata": {},
     "output_type": "execute_result"
    }
   ],
   "source": [
    "len(File_Count_Artwork_Template_2019.loc[\n",
    "    File_Count_Artwork_Template_2019['first_edit_timestamp'] < dt.datetime(2019, 4, 1, 0, 0, 0)])"
   ]
  },
  {
   "cell_type": "markdown",
   "metadata": {},
   "source": [
    "For Q2  (end of June, 2019):"
   ]
  },
  {
   "cell_type": "code",
   "execution_count": 37,
   "metadata": {},
   "outputs": [],
   "source": [
    "Q2_File_Count_Artwork_Template_2019=len(File_Count_Artwork_Template_2019.loc[\n",
    "    (File_Count_Artwork_Template_2019['first_edit_timestamp'] >= dt.datetime(2019, 4, 1, 0, 0, 0)) & (File_Count_Artwork_Template_2019['first_edit_timestamp'] < dt.datetime(2019, 7, 1, 0, 0, 0))])"
   ]
  },
  {
   "cell_type": "code",
   "execution_count": 38,
   "metadata": {},
   "outputs": [
    {
     "data": {
      "text/plain": [
       "64761"
      ]
     },
     "execution_count": 38,
     "metadata": {},
     "output_type": "execute_result"
    }
   ],
   "source": [
    "Q2_File_Count_Artwork_Template_2019"
   ]
  },
  {
   "cell_type": "markdown",
   "metadata": {},
   "source": [
    "For Q3 only (end of September, 2019):\n",
    "\n"
   ]
  },
  {
   "cell_type": "code",
   "execution_count": 39,
   "metadata": {},
   "outputs": [],
   "source": [
    "Q3_File_Count_Artwork_Template_2019=len(File_Count_Artwork_Template_2019.loc[\n",
    "    (File_Count_Artwork_Template_2019['first_edit_timestamp'] >= dt.datetime(2019, 7, 1, 0, 0, 0)) & \n",
    "    (File_Count_Artwork_Template_2019['first_edit_timestamp'] < dt.datetime(2019, 10, 1, 0, 0, 0))])"
   ]
  },
  {
   "cell_type": "code",
   "execution_count": 40,
   "metadata": {},
   "outputs": [
    {
     "data": {
      "text/plain": [
       "270530"
      ]
     },
     "execution_count": 40,
     "metadata": {},
     "output_type": "execute_result"
    }
   ],
   "source": [
    "Q3_File_Count_Artwork_Template_2019"
   ]
  },
  {
   "cell_type": "markdown",
   "metadata": {},
   "source": [
    "<font color=purple> For Q4 (end of December, 2019):  \n",
    "***Added for [T242816](https://phabricator.wikimedia.org/T242816) ***</font>"
   ]
  },
  {
   "cell_type": "code",
   "execution_count": 9,
   "metadata": {},
   "outputs": [],
   "source": [
    "Q4_File_Count_Artwork_Template_2019=len(File_Count_Artwork_Template_2019.loc[\n",
    "    (File_Count_Artwork_Template_2019['first_edit_timestamp'] >= dt.datetime(2019, 10, 1, 0, 0, 0)) & \n",
    "    (File_Count_Artwork_Template_2019['first_edit_timestamp'] < dt.datetime(2020, 1, 1, 0, 0, 0))])"
   ]
  },
  {
   "cell_type": "code",
   "execution_count": 10,
   "metadata": {},
   "outputs": [
    {
     "data": {
      "text/plain": [
       "74138"
      ]
     },
     "execution_count": 10,
     "metadata": {},
     "output_type": "execute_result"
    }
   ],
   "source": [
    "Q4_File_Count_Artwork_Template_2019"
   ]
  },
  {
   "cell_type": "code",
   "execution_count": null,
   "metadata": {},
   "outputs": [],
   "source": []
  }
 ],
 "metadata": {
  "kernelspec": {
   "display_name": "Python 3",
   "language": "python",
   "name": "python3"
  },
  "language_info": {
   "codemirror_mode": {
    "name": "ipython",
    "version": 3
   },
   "file_extension": ".py",
   "mimetype": "text/x-python",
   "name": "python",
   "nbconvert_exporter": "python",
   "pygments_lexer": "ipython3",
   "version": "3.5.3"
  }
 },
 "nbformat": 4,
 "nbformat_minor": 2
}
