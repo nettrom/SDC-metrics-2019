{
 "cells": [
  {
   "cell_type": "markdown",
   "metadata": {},
   "source": [
    "# Metric 1 : Quarterly comparison of metadata on files with a common template, such as the information template and artwork template\n",
    "\n",
    "In continuation to the numbers we provided in T231952-part-1b for Structured data on Commons, we will look into getting the number of properties added to Commons files on average.  \n",
    "<font color=dark red>_**Note that all metrics calculated in this version of the notebook are different than the previous versions due to the inclusion of December 2019 data that is now available in the Data lake. **_</font>"
   ]
  },
  {
   "cell_type": "code",
   "execution_count": 1,
   "metadata": {},
   "outputs": [
    {
     "name": "stderr",
     "output_type": "stream",
     "text": [
      "You are using wmfdata 0.1.0 (latest).\n",
      "\n",
      "You can find the source for `wmfdata` at https://github.com/neilpquinn/wmfdata\n"
     ]
    }
   ],
   "source": [
    "import pandas as pd\n",
    "import numpy as np\n",
    "\n",
    "import datetime as dt\n",
    "\n",
    "from wmfdata import hive, mariadb"
   ]
  },
  {
   "cell_type": "code",
   "execution_count": 2,
   "metadata": {},
   "outputs": [],
   "source": [
    "# needed to show matplot plots?\n",
    "import matplotlib.pyplot as plt\n",
    "\n",
    "%matplotlib inline\n",
    "\n",
    "from matplotlib import colors"
   ]
  },
  {
   "cell_type": "markdown",
   "metadata": {},
   "source": [
    "### Configuration Variables  \n",
    "**UPDATE 2020-01-23:** Modified Config variables snapshot and end_date to include December 2019 data in all the queries. Refer to [T242816](https://phabricator.wikimedia.org/T242816) "
   ]
  },
  {
   "cell_type": "code",
   "execution_count": 3,
   "metadata": {},
   "outputs": [],
   "source": [
    "wmf_snapshot = '2019-12'\n",
    "start_date = '2019-01-01' # first date of caption edits\n",
    "start_date_new = '2019-07-31' # first date of caption edits\n",
    "end_date = '2020-01-01' # last date of caption edits (exclusive)"
   ]
  },
  {
   "cell_type": "markdown",
   "metadata": {},
   "source": [
    "### Mapping of distinct page IDs to the 7 properties that we are interested in:\n",
    "1. Caption P2096\n",
    "2. Date of Creation P571\n",
    "3. Date of Publication P577\n",
    "4. Creator P170\n",
    "5. License P275\n",
    "6. Digital Representation of P6243\n",
    "7. Depicts P180"
   ]
  },
  {
   "cell_type": "code",
   "execution_count": 4,
   "metadata": {},
   "outputs": [],
   "source": [
    "map_query = '''\n",
    "WITH all_pages AS (\n",
    "    SELECT distinct page_id\n",
    "    FROM wmf.mediawiki_history\n",
    "    WHERE snapshot = \"{snapshot}\"\n",
    "    AND wiki_db = \"commonswiki\"\n",
    "    AND event_entity = \"revision\"\n",
    "    AND event_type = \"create\"\n",
    "    AND event_timestamp >= \"{start_date_new}\"\n",
    "    AND event_timestamp < \"{end_date}\"\n",
    "    AND page_is_deleted = false -- only count live pages\n",
    "    AND page_namespace = 6 -- only count files\n",
    "),\n",
    "\n",
    "label_pages AS (\n",
    "    SELECT distinct page_id, 1 AS has_label\n",
    "    FROM wmf.mediawiki_history\n",
    "    WHERE snapshot = \"{snapshot}\"\n",
    "    AND wiki_db = \"commonswiki\"\n",
    "    AND event_entity = \"revision\"\n",
    "    AND event_type = \"create\"\n",
    "    AND event_timestamp >= \"{start_date_new}\"\n",
    "    AND event_timestamp < \"{end_date}\"\n",
    "    AND page_is_deleted = false -- only count live pages\n",
    "    AND page_namespace = 6 -- only count files\n",
    "    AND event_comment REGEXP \"^...wbsetlabel-(add|set):\"\n",
    "),\n",
    "\n",
    "depicts_pages AS (\n",
    "    SELECT distinct page_id, 1 AS has_depicts\n",
    "    FROM wmf.mediawiki_history\n",
    "    WHERE snapshot = \"{snapshot}\"\n",
    "    AND wiki_db = \"commonswiki\"\n",
    "    AND event_entity = \"revision\"\n",
    "    AND event_type = \"create\"\n",
    "    AND event_timestamp >= \"{start_date_new}\"\n",
    "    AND event_timestamp < \"{end_date}\"\n",
    "    AND page_is_deleted = false -- only count live pages\n",
    "    AND page_namespace = 6 -- only count files\n",
    "    AND (event_comment REGEXP \"^...wbcreateclaim-create:\"\n",
    "         OR event_comment REGEXP \"^...wbeditentity-update:\"\n",
    "         OR event_comment REGEXP \"^...wbsetclaim-create:\"\n",
    "         OR event_comment REGEXP \"^...wbsetclaim-update:\"\n",
    "    )\n",
    "    AND event_comment LIKE \"%P180%\"\n",
    "),\n",
    "\n",
    "creator_pages AS (\n",
    "    SELECT distinct page_id, 1 AS has_creator\n",
    "    FROM wmf.mediawiki_history\n",
    "    WHERE snapshot = \"{snapshot}\"\n",
    "    AND wiki_db = \"commonswiki\"\n",
    "    AND event_entity = \"revision\"\n",
    "    AND event_type = \"create\"\n",
    "    AND event_timestamp >= \"{start_date_new}\"\n",
    "    AND event_timestamp < \"{end_date}\"\n",
    "    AND page_is_deleted = false -- only count live pages\n",
    "    AND page_namespace = 6 -- only count files\n",
    "    AND (event_comment REGEXP \"^...wbcreateclaim-create:\"\n",
    "    OR event_comment REGEXP \"^...wbeditentity-update:\"\n",
    "    OR event_comment REGEXP \"^...wbsetclaim-create:\"\n",
    "    OR event_comment REGEXP \"^...wbsetclaim-update:\"\n",
    "    )\n",
    "    AND event_comment LIKE \"%P170%\"\n",
    "\n",
    "),\n",
    "\n",
    "date_creation_pages AS (\n",
    "    SELECT distinct page_id, 1 AS has_creation_date\n",
    "    FROM wmf.mediawiki_history\n",
    "    WHERE snapshot = \"{snapshot}\"\n",
    "    AND wiki_db = \"commonswiki\"\n",
    "    AND event_entity = \"revision\"\n",
    "    AND event_type = \"create\"\n",
    "    AND event_timestamp >= \"{start_date_new}\"\n",
    "    AND event_timestamp < \"{end_date}\"\n",
    "    AND page_is_deleted = false -- only count live pages\n",
    "    AND page_namespace = 6 -- only count files\n",
    "    AND (event_comment REGEXP \"^...wbcreateclaim-create:\"\n",
    "    OR event_comment REGEXP \"^...wbeditentity-update:\"\n",
    "    OR event_comment REGEXP \"^...wbsetclaim-create:\"\n",
    "    OR event_comment REGEXP \"^...wbsetclaim-update:\"\n",
    "    )\n",
    "    AND event_comment like \"%P571%\"\n",
    "    \n",
    "),\n",
    "\n",
    "date_publication_pages AS (\n",
    "    SELECT distinct page_id, 1 AS has_publication_date\n",
    "    FROM wmf.mediawiki_history\n",
    "    WHERE snapshot = \"{snapshot}\"\n",
    "    AND wiki_db = \"commonswiki\"\n",
    "    AND event_entity = \"revision\"\n",
    "    AND event_type = \"create\"\n",
    "    AND event_timestamp >= \"{start_date_new}\"\n",
    "    AND event_timestamp < \"{end_date}\"\n",
    "    AND page_is_deleted = false -- only count live pages\n",
    "    AND page_namespace = 6 -- only count files\n",
    "    AND (event_comment REGEXP \"^...wbcreateclaim-create:\"\n",
    "    OR event_comment REGEXP \"^...wbeditentity-update:\"\n",
    "    OR event_comment REGEXP \"^...wbsetclaim-create:\"\n",
    "    OR event_comment REGEXP \"^...wbsetclaim-update:\"\n",
    "    )\n",
    "    AND event_comment like \"%P577%\"\n",
    "),\n",
    "\n",
    "license_pages AS (\n",
    "    SELECT distinct page_id, 1 AS has_license\n",
    "    FROM wmf.mediawiki_history\n",
    "    WHERE snapshot = \"{snapshot}\"\n",
    "    AND wiki_db = \"commonswiki\"\n",
    "    AND event_entity = \"revision\"\n",
    "    AND event_type = \"create\"\n",
    "    AND event_timestamp >= \"{start_date_new}\"\n",
    "    AND event_timestamp < \"{end_date}\"\n",
    "    AND page_is_deleted = false -- only count live pages\n",
    "    AND page_namespace = 6 -- only count files\n",
    "    AND (event_comment REGEXP \"^...wbcreateclaim-create:\"\n",
    "    OR event_comment REGEXP \"^...wbeditentity-update:\"\n",
    "    OR event_comment REGEXP \"^...wbsetclaim-create:\"\n",
    "    OR event_comment REGEXP \"^...wbsetclaim-update:\"\n",
    "    )\n",
    "    AND event_comment like \"%P275%\"\n",
    "    \n",
    "),\n",
    "\n",
    "digital_representation_pages AS (\n",
    "    SELECT distinct page_id, 1 AS has_digital_rep\n",
    "    FROM wmf.mediawiki_history\n",
    "    WHERE snapshot = \"{snapshot}\"\n",
    "    AND wiki_db = \"commonswiki\"\n",
    "    AND event_entity = \"revision\"\n",
    "    AND event_type = \"create\"\n",
    "    AND event_timestamp >= \"{start_date_new}\"\n",
    "    AND event_timestamp < \"{end_date}\"\n",
    "    AND page_is_deleted = false -- only count live pages\n",
    "    AND page_namespace = 6 -- only count files\n",
    "    AND (event_comment REGEXP \"^...wbcreateclaim-create:\"\n",
    "    OR event_comment REGEXP \"^...wbeditentity-update:\"\n",
    "    OR event_comment REGEXP \"^...wbsetclaim-create:\"\n",
    "    OR event_comment REGEXP \"^...wbsetclaim-update:\"\n",
    "    )\n",
    "    AND event_comment like \"%P6243%\"\n",
    ")\n",
    "\n",
    "-- added all the properties above...\n",
    "\n",
    "SELECT distinct all_pages.page_id,\n",
    "  has_label, \n",
    "  has_depicts,\n",
    "  has_creator,\n",
    "  has_creation_date,\n",
    "  has_publication_date,\n",
    "  has_license,\n",
    "  has_digital_rep\n",
    "FROM all_pages\n",
    "LEFT JOIN label_pages\n",
    "ON label_pages.page_id=all_pages.page_id\n",
    "LEFT JOIN depicts_pages\n",
    "ON depicts_pages.page_id=all_pages.page_id\n",
    "LEFT JOIN creator_pages\n",
    "ON creator_pages.page_id=all_pages.page_id\n",
    "LEFT JOIN date_creation_pages\n",
    "ON date_creation_pages.page_id=all_pages.page_id\n",
    "LEFT JOIN date_publication_pages\n",
    "ON date_publication_pages.page_id=all_pages.page_id\n",
    "LEFT JOIN license_pages\n",
    "ON license_pages.page_id=all_pages.page_id\n",
    "LEFT JOIN digital_representation_pages\n",
    "ON digital_representation_pages.page_id=all_pages.page_id\n",
    "WHERE (has_label IS NOT NULL\n",
    "       OR has_depicts IS NOT NULL\n",
    "       OR has_creator IS NOT NULL\n",
    "       OR has_creation_date IS NOT NULL\n",
    "       OR has_publication_date IS NOT NULL\n",
    "       OR has_license IS NOT NULL\n",
    "       OR has_digital_rep IS NOT NULL\n",
    "       )\n",
    "\n",
    "'''"
   ]
  },
  {
   "cell_type": "code",
   "execution_count": 8,
   "metadata": {},
   "outputs": [],
   "source": [
    "property_page_id= hive.run(\n",
    "    [\n",
    "        \"SET mapreduce.map.memory.mb=4096\", \n",
    "        \"SET hive.mapred.mode=nonstrict\",\n",
    "        map_query.format(\n",
    "            snapshot = wmf_snapshot,\n",
    "            start_date_new = start_date_new,\n",
    "            end_date = end_date\n",
    "        )\n",
    "    ]\n",
    ")\n"
   ]
  },
  {
   "cell_type": "code",
   "execution_count": 9,
   "metadata": {},
   "outputs": [
    {
     "data": {
      "text/html": [
       "<div>\n",
       "<style scoped>\n",
       "    .dataframe tbody tr th:only-of-type {\n",
       "        vertical-align: middle;\n",
       "    }\n",
       "\n",
       "    .dataframe tbody tr th {\n",
       "        vertical-align: top;\n",
       "    }\n",
       "\n",
       "    .dataframe thead th {\n",
       "        text-align: right;\n",
       "    }\n",
       "</style>\n",
       "<table border=\"1\" class=\"dataframe\">\n",
       "  <thead>\n",
       "    <tr style=\"text-align: right;\">\n",
       "      <th></th>\n",
       "      <th>page_id</th>\n",
       "      <th>has_label</th>\n",
       "      <th>has_depicts</th>\n",
       "      <th>has_creator</th>\n",
       "      <th>has_creation_date</th>\n",
       "      <th>has_publication_date</th>\n",
       "      <th>has_license</th>\n",
       "      <th>has_digital_rep</th>\n",
       "    </tr>\n",
       "  </thead>\n",
       "  <tbody>\n",
       "    <tr>\n",
       "      <th>1501497</th>\n",
       "      <td>85472799</td>\n",
       "      <td>1.0</td>\n",
       "      <td>0.0</td>\n",
       "      <td>0.0</td>\n",
       "      <td>0.0</td>\n",
       "      <td>0</td>\n",
       "      <td>0.0</td>\n",
       "      <td>0.0</td>\n",
       "    </tr>\n",
       "    <tr>\n",
       "      <th>1501498</th>\n",
       "      <td>85473718</td>\n",
       "      <td>1.0</td>\n",
       "      <td>0.0</td>\n",
       "      <td>0.0</td>\n",
       "      <td>0.0</td>\n",
       "      <td>0</td>\n",
       "      <td>0.0</td>\n",
       "      <td>0.0</td>\n",
       "    </tr>\n",
       "    <tr>\n",
       "      <th>1501499</th>\n",
       "      <td>85475910</td>\n",
       "      <td>1.0</td>\n",
       "      <td>0.0</td>\n",
       "      <td>0.0</td>\n",
       "      <td>0.0</td>\n",
       "      <td>0</td>\n",
       "      <td>0.0</td>\n",
       "      <td>0.0</td>\n",
       "    </tr>\n",
       "    <tr>\n",
       "      <th>1501500</th>\n",
       "      <td>85477244</td>\n",
       "      <td>1.0</td>\n",
       "      <td>0.0</td>\n",
       "      <td>0.0</td>\n",
       "      <td>0.0</td>\n",
       "      <td>0</td>\n",
       "      <td>0.0</td>\n",
       "      <td>0.0</td>\n",
       "    </tr>\n",
       "    <tr>\n",
       "      <th>1501501</th>\n",
       "      <td>85478273</td>\n",
       "      <td>1.0</td>\n",
       "      <td>0.0</td>\n",
       "      <td>0.0</td>\n",
       "      <td>0.0</td>\n",
       "      <td>0</td>\n",
       "      <td>0.0</td>\n",
       "      <td>0.0</td>\n",
       "    </tr>\n",
       "  </tbody>\n",
       "</table>\n",
       "</div>"
      ],
      "text/plain": [
       "          page_id  has_label  has_depicts  has_creator  has_creation_date  \\\n",
       "1501497  85472799        1.0          0.0          0.0                0.0   \n",
       "1501498  85473718        1.0          0.0          0.0                0.0   \n",
       "1501499  85475910        1.0          0.0          0.0                0.0   \n",
       "1501500  85477244        1.0          0.0          0.0                0.0   \n",
       "1501501  85478273        1.0          0.0          0.0                0.0   \n",
       "\n",
       "         has_publication_date  has_license  has_digital_rep  \n",
       "1501497                     0          0.0              0.0  \n",
       "1501498                     0          0.0              0.0  \n",
       "1501499                     0          0.0              0.0  \n",
       "1501500                     0          0.0              0.0  \n",
       "1501501                     0          0.0              0.0  "
      ]
     },
     "execution_count": 9,
     "metadata": {},
     "output_type": "execute_result"
    }
   ],
   "source": [
    "property_page_id=property_page_id.fillna(0)\n",
    "property_page_id.tail()"
   ]
  },
  {
   "cell_type": "markdown",
   "metadata": {},
   "source": [
    "### Getting the total number of properties for each page\n",
    "Note: We're dropping the publication date property from our calculations since it looks like there isn't any file that has this property"
   ]
  },
  {
   "cell_type": "code",
   "execution_count": 10,
   "metadata": {},
   "outputs": [],
   "source": [
    "\n",
    "\n",
    "property_page_id['num_props'] = (property_page_id['has_label'] + \n",
    "                                 property_page_id['has_depicts']+\n",
    "                                 property_page_id['has_creator']+\n",
    "                                 property_page_id['has_creation_date'] + \n",
    "                                 property_page_id['has_license'] + \n",
    "                                 property_page_id['has_digital_rep'])"
   ]
  },
  {
   "cell_type": "code",
   "execution_count": 11,
   "metadata": {},
   "outputs": [
    {
     "data": {
      "text/html": [
       "<div>\n",
       "<style scoped>\n",
       "    .dataframe tbody tr th:only-of-type {\n",
       "        vertical-align: middle;\n",
       "    }\n",
       "\n",
       "    .dataframe tbody tr th {\n",
       "        vertical-align: top;\n",
       "    }\n",
       "\n",
       "    .dataframe thead th {\n",
       "        text-align: right;\n",
       "    }\n",
       "</style>\n",
       "<table border=\"1\" class=\"dataframe\">\n",
       "  <thead>\n",
       "    <tr style=\"text-align: right;\">\n",
       "      <th></th>\n",
       "      <th>page_id</th>\n",
       "      <th>has_label</th>\n",
       "      <th>has_depicts</th>\n",
       "      <th>has_creator</th>\n",
       "      <th>has_creation_date</th>\n",
       "      <th>has_publication_date</th>\n",
       "      <th>has_license</th>\n",
       "      <th>has_digital_rep</th>\n",
       "      <th>num_props</th>\n",
       "    </tr>\n",
       "  </thead>\n",
       "  <tbody>\n",
       "    <tr>\n",
       "      <th>1501497</th>\n",
       "      <td>85472799</td>\n",
       "      <td>1.0</td>\n",
       "      <td>0.0</td>\n",
       "      <td>0.0</td>\n",
       "      <td>0.0</td>\n",
       "      <td>0</td>\n",
       "      <td>0.0</td>\n",
       "      <td>0.0</td>\n",
       "      <td>1.0</td>\n",
       "    </tr>\n",
       "    <tr>\n",
       "      <th>1501498</th>\n",
       "      <td>85473718</td>\n",
       "      <td>1.0</td>\n",
       "      <td>0.0</td>\n",
       "      <td>0.0</td>\n",
       "      <td>0.0</td>\n",
       "      <td>0</td>\n",
       "      <td>0.0</td>\n",
       "      <td>0.0</td>\n",
       "      <td>1.0</td>\n",
       "    </tr>\n",
       "    <tr>\n",
       "      <th>1501499</th>\n",
       "      <td>85475910</td>\n",
       "      <td>1.0</td>\n",
       "      <td>0.0</td>\n",
       "      <td>0.0</td>\n",
       "      <td>0.0</td>\n",
       "      <td>0</td>\n",
       "      <td>0.0</td>\n",
       "      <td>0.0</td>\n",
       "      <td>1.0</td>\n",
       "    </tr>\n",
       "    <tr>\n",
       "      <th>1501500</th>\n",
       "      <td>85477244</td>\n",
       "      <td>1.0</td>\n",
       "      <td>0.0</td>\n",
       "      <td>0.0</td>\n",
       "      <td>0.0</td>\n",
       "      <td>0</td>\n",
       "      <td>0.0</td>\n",
       "      <td>0.0</td>\n",
       "      <td>1.0</td>\n",
       "    </tr>\n",
       "    <tr>\n",
       "      <th>1501501</th>\n",
       "      <td>85478273</td>\n",
       "      <td>1.0</td>\n",
       "      <td>0.0</td>\n",
       "      <td>0.0</td>\n",
       "      <td>0.0</td>\n",
       "      <td>0</td>\n",
       "      <td>0.0</td>\n",
       "      <td>0.0</td>\n",
       "      <td>1.0</td>\n",
       "    </tr>\n",
       "  </tbody>\n",
       "</table>\n",
       "</div>"
      ],
      "text/plain": [
       "          page_id  has_label  has_depicts  has_creator  has_creation_date  \\\n",
       "1501497  85472799        1.0          0.0          0.0                0.0   \n",
       "1501498  85473718        1.0          0.0          0.0                0.0   \n",
       "1501499  85475910        1.0          0.0          0.0                0.0   \n",
       "1501500  85477244        1.0          0.0          0.0                0.0   \n",
       "1501501  85478273        1.0          0.0          0.0                0.0   \n",
       "\n",
       "         has_publication_date  has_license  has_digital_rep  num_props  \n",
       "1501497                     0          0.0              0.0        1.0  \n",
       "1501498                     0          0.0              0.0        1.0  \n",
       "1501499                     0          0.0              0.0        1.0  \n",
       "1501500                     0          0.0              0.0        1.0  \n",
       "1501501                     0          0.0              0.0        1.0  "
      ]
     },
     "execution_count": 11,
     "metadata": {},
     "output_type": "execute_result"
    }
   ],
   "source": [
    "property_page_id.tail()"
   ]
  },
  {
   "cell_type": "markdown",
   "metadata": {},
   "source": [
    "## Finding the Average number of properties added to each file  \n",
    "The number tells us that every file definitely has one property (from the list) added to it"
   ]
  },
  {
   "cell_type": "code",
   "execution_count": 12,
   "metadata": {},
   "outputs": [
    {
     "data": {
      "text/plain": [
       "1.129967858850671"
      ]
     },
     "execution_count": 12,
     "metadata": {},
     "output_type": "execute_result"
    }
   ],
   "source": [
    "property_average=property_page_id['num_props'].mean()\n",
    "property_average"
   ]
  },
  {
   "cell_type": "markdown",
   "metadata": {},
   "source": [
    "## Finding the median of properties added to each file"
   ]
  },
  {
   "cell_type": "code",
   "execution_count": 13,
   "metadata": {},
   "outputs": [
    {
     "data": {
      "text/plain": [
       "1.0"
      ]
     },
     "execution_count": 13,
     "metadata": {},
     "output_type": "execute_result"
    }
   ],
   "source": [
    "property_median=property_page_id['num_props'].median()\n",
    "property_median"
   ]
  },
  {
   "cell_type": "markdown",
   "metadata": {},
   "source": [
    "## Distribution of properties added to Commons files\n",
    "As expected, the histogram shows that majority of the files have one of the properties that we looked at"
   ]
  },
  {
   "cell_type": "code",
   "execution_count": 14,
   "metadata": {},
   "outputs": [
    {
     "data": {
      "text/plain": [
       "Text(0, 0.5, 'files')"
      ]
     },
     "execution_count": 14,
     "metadata": {},
     "output_type": "execute_result"
    },
    {
     "data": {
      "image/png": "[encoded data removed]",
      "text/plain": [
       "<Figure size 432x288 with 1 Axes>"
      ]
     },
     "metadata": {},
     "output_type": "display_data"
    }
   ],
   "source": [
    "#plot the distribution\n",
    "histogram=plt.hist(property_page_id['num_props'],color='green')\n",
    "plt.xlabel('properties')\n",
    "plt.ylabel('files')\n",
    "                  "
   ]
  },
  {
   "cell_type": "markdown",
   "metadata": {},
   "source": [
    "## Breakdown of individual Properties and the number of files that have them"
   ]
  },
  {
   "cell_type": "code",
   "execution_count": 15,
   "metadata": {},
   "outputs": [
    {
     "data": {
      "text/plain": [
       "page_id                 83356330449237\n",
       "has_label                       633843\n",
       "has_depicts                     911663\n",
       "has_creator                      68808\n",
       "has_creation_date                15667\n",
       "has_publication_date                 0\n",
       "has_license                      47499\n",
       "has_digital_rep                  19169\n",
       "num_props                      1696649\n",
       "dtype: int64"
      ]
     },
     "execution_count": 15,
     "metadata": {},
     "output_type": "execute_result"
    }
   ],
   "source": [
    "property_page_id.sum().astype(int)"
   ]
  },
  {
   "cell_type": "markdown",
   "metadata": {},
   "source": [
    "**The numbers above make sense because properties like Captions (with 510,485 files) and Depicts (with 868,276 files), were first made available to update with structured data on Wiki Commons and users have continued to update files with those properties in the time from August to December 2019 **"
   ]
  },
  {
   "cell_type": "code",
   "execution_count": null,
   "metadata": {},
   "outputs": [],
   "source": []
  }
 ],
 "metadata": {
  "kernelspec": {
   "display_name": "Python 3",
   "language": "python",
   "name": "python3"
  },
  "language_info": {
   "codemirror_mode": {
    "name": "ipython",
    "version": 3
   },
   "file_extension": ".py",
   "mimetype": "text/x-python",
   "name": "python",
   "nbconvert_exporter": "python",
   "pygments_lexer": "ipython3",
   "version": "3.5.3"
  }
 },
 "nbformat": 4,
 "nbformat_minor": 2
}
